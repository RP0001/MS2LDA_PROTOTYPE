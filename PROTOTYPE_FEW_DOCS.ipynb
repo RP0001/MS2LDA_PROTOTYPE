{
 "cells": [
  {
   "cell_type": "markdown",
   "metadata": {},
   "source": [
    "# IMPORTS"
   ]
  },
  {
   "cell_type": "code",
   "execution_count": 1,
   "metadata": {},
   "outputs": [
    {
     "name": "stdout",
     "output_type": "stream",
     "text": [
      "MEDIA_ROOT is C:\\Users\\rpetr\\OneDrive\\Desktop\\DISS_CODE\\ms2ldaviz\\ms2ldaviz\\media\n"
     ]
    }
   ],
   "source": [
    "# all the relevant imports are done here\n",
    "# run this if there are import errors: set DJANGO_SETTINGS_MODULE=ms2ldaviz.settings\n",
    "%load_ext autoreload\n",
    "%autoreload 2\n",
    "%matplotlib inline\n",
    "import sys\n",
    "basedir = 'C:\\\\Users\\\\rpetr\\\\OneDrive\\\\Desktop\\\\DISS_CODE\\\\ms2ldaviz\\\\ms2ldaviz'\n",
    "sys.path.append(basedir)\n",
    "import django\n",
    "import json\n",
    "django.setup()\n",
    "from basicviz.models import Experiment, Alpha, Mass2MotifInstance, FeatureInstance, Feature, Document, Mass2Motif, DocumentMass2Motif, FeatureMass2MotifInstance\n",
    "import numpy as np\n",
    "import pylab as plt\n",
    "import csv\n",
    "from scipy.special import polygamma as pg\n",
    "from scipy.special import psi as psi"
   ]
  },
  {
   "cell_type": "markdown",
   "metadata": {},
   "source": [
    "# VARIABLES"
   ]
  },
  {
   "cell_type": "markdown",
   "metadata": {},
   "source": [
    "###### Choose an experiment. In this case it is experiment 190. It has 500 topics, 27923 words and 2132 unique docs. These were tested against the database using appropriate queries. "
   ]
  },
  {
   "cell_type": "code",
   "execution_count": 2,
   "metadata": {},
   "outputs": [],
   "source": [
    "experiment_id=190 \n",
    "experiment = Experiment.objects.get(id=experiment_id)\n",
    "min_prob_beta = 1e-3\n",
    "SMALL_NUMBER = 1e-100\n",
    "eta = 0.1 #needed for beta m-step if it will be used here"
   ]
  },
  {
   "cell_type": "markdown",
   "metadata": {},
   "source": [
    "# CORPUS (words for 1 document in experiment 190)"
   ]
  },
  {
   "cell_type": "markdown",
   "metadata": {},
   "source": [
    "###### First we get all features in the database for our experiment. "
   ]
  },
  {
   "cell_type": "code",
   "execution_count": 3,
   "metadata": {},
   "outputs": [],
   "source": [
    "# Get all features in the database relevant for our experiment. \n",
    "features = Feature.objects.filter(experiment_id=experiment)\n",
    "experiment_words = []\n",
    "for f in features:\n",
    "     if f.id not in experiment_words: \n",
    "        experiment_words.append(f.id)"
   ]
  },
  {
   "cell_type": "code",
   "execution_count": 4,
   "metadata": {},
   "outputs": [],
   "source": [
    "# Unique words lists all the features as {feature_id:incremental_id} word value pairs. \n",
    "unique_words = {}\n",
    "index = 0\n",
    "for word in experiment_words:\n",
    "    if word not in unique_words.keys():\n",
    "        unique_words.update({word:index})\n",
    "        index+=1"
   ]
  },
  {
   "cell_type": "markdown",
   "metadata": {},
   "source": [
    "###### Then we get a random document for our experiment from the database. "
   ]
  },
  {
   "cell_type": "code",
   "execution_count": 5,
   "metadata": {},
   "outputs": [],
   "source": [
    "#We will use a single document for our experiment. Modify here if more documents are needed. \n",
    "experiment_docs=[271247]"
   ]
  },
  {
   "cell_type": "code",
   "execution_count": 6,
   "metadata": {},
   "outputs": [],
   "source": [
    "#unique documents is the dictionary -> doc: id \n",
    "unique_docs = {}\n",
    "index = 0 \n",
    "for doc in experiment_docs: \n",
    "    unique_docs.update({doc:index})\n",
    "    index+=1"
   ]
  },
  {
   "cell_type": "markdown",
   "metadata": {},
   "source": [
    "###### Get the features only for the specific documents and create the corpus dictionary {DOC:{WORD:COUNT}}. "
   ]
  },
  {
   "cell_type": "code",
   "execution_count": 7,
   "metadata": {},
   "outputs": [],
   "source": [
    "# Get features for all documents chosen. The output columns are doc_id, word_id and intensity.\n",
    "feature_instances = FeatureInstance.objects.filter(document_id__in=unique_docs.keys(), feature_id__in=unique_words.keys())\n",
    "doc_word_data = []\n",
    "for f in feature_instances:\n",
    "    doc_word_data.append([unique_docs[int(f.document_id)], unique_words[int(f.feature_id)], f.intensity])"
   ]
  },
  {
   "cell_type": "code",
   "execution_count": 9,
   "metadata": {},
   "outputs": [],
   "source": [
    "# Output a csv for the corpus in order to create a dictionary made up of {document_id:{word_id:intensity}}. \n",
    "# Intensity in this case is an integer (count).\n",
    "doc_word_array = np.array(doc_word_data)\n",
    "np.savetxt(\"corpus_data.csv\", doc_word_array, delimiter=\",\", fmt=\"%s\")\n",
    "np.save(\"corpus_data\",doc_word_array)"
   ]
  },
  {
   "cell_type": "code",
   "execution_count": 10,
   "metadata": {
    "scrolled": true
   },
   "outputs": [],
   "source": [
    "# CREATE THE CORPUS - a dictionary where key is document id and value is a dict of the count of words\n",
    "# You might need to change the csv output above (for now, by adding an extra row with doc_id, word_id, count)\n",
    "corpus_dict = {}\n",
    "with open(\"corpus_data.csv\", 'r') as data_file:\n",
    "    data = csv.DictReader(data_file, delimiter=\",\")\n",
    "    for row in data:\n",
    "        item = corpus_dict.get(row[\"doc_id\"], dict())\n",
    "        item[row[\"word_id\"]] = int(row[\"count\"])\n",
    "        corpus_dict[row[\"doc_id\"]] = item\n",
    "#Get the corpus dict whenever this is necessary"
   ]
  },
  {
   "cell_type": "markdown",
   "metadata": {},
   "source": [
    "# UNIQUE TOPICS"
   ]
  },
  {
   "cell_type": "code",
   "execution_count": 11,
   "metadata": {},
   "outputs": [],
   "source": [
    "# Get the 500 unique topics for the experiment. \n",
    "mi = Mass2Motif.objects.filter(experiment=experiment)\n",
    "unique_topics = {}\n",
    "index=0\n",
    "for m in mi: \n",
    "    unique_topics.update({m.id:index})\n",
    "    index+=1"
   ]
  },
  {
   "cell_type": "markdown",
   "metadata": {},
   "source": [
    "# ALPHA"
   ]
  },
  {
   "cell_type": "code",
   "execution_count": 12,
   "metadata": {},
   "outputs": [],
   "source": [
    "# Get Alphas from database, transferm to numpy vector. \n",
    "al = Alpha.objects.filter(mass2motif__experiment=experiment).order_by('mass2motif')\n",
    "alphas = {}\n",
    "for a in al:\n",
    "    alphas.update({unique_topics[a.mass2motif_id]: a.value})\n",
    "n_motif = len(alphas)\n",
    "alpha_vec = np.zeros(n_motif)\n",
    "for pos,val in alphas.items():\n",
    "    alpha_vec[pos] = val"
   ]
  },
  {
   "cell_type": "code",
   "execution_count": 13,
   "metadata": {},
   "outputs": [],
   "source": [
    "alpha_vector = alpha_vec"
   ]
  },
  {
   "cell_type": "code",
   "execution_count": 14,
   "metadata": {},
   "outputs": [],
   "source": [
    "# save to text if necessary \n",
    "# np.savetxt(\"alpha.csv\", alpha_vector, delimiter=\",\", fmt=\"%s\")"
   ]
  },
  {
   "cell_type": "markdown",
   "metadata": {},
   "source": [
    "# BETA"
   ]
  },
  {
   "cell_type": "code",
   "execution_count": 15,
   "metadata": {},
   "outputs": [],
   "source": [
    "# Get beta from the database (it is a topic * words 2d matrix - each cell is a probability)\n",
    "beta_pre_pivot = []\n",
    "mi = Mass2MotifInstance.objects.filter(mass2motif__experiment=experiment)\n",
    "for m in mi:\n",
    "    beta_pre_pivot.append([unique_topics[m.mass2motif_id], unique_words[m.feature_id], m.probability]) "
   ]
  },
  {
   "cell_type": "code",
   "execution_count": 16,
   "metadata": {
    "scrolled": true
   },
   "outputs": [],
   "source": [
    "# Some topics may have 0 words - these have been reincluded \n",
    "# Creating array from the beta data and subsequently creating a pivot (matrix)\n",
    "output_arr_beta = np.array(beta_pre_pivot)\n",
    "K = len(unique_topics)\n",
    "W = len(unique_words)\n",
    "pivot_table = np.zeros((K, W)).astype('float')\n",
    "i = 0\n",
    "max = len(beta_pre_pivot)\n",
    "while i<max:\n",
    "    pivot_table[int(output_arr_beta[i][0]),int(output_arr_beta[i][1])]=output_arr_beta[i][2]\n",
    "    i+=1"
   ]
  },
  {
   "cell_type": "code",
   "execution_count": 17,
   "metadata": {},
   "outputs": [],
   "source": [
    "# Use this to get beta csv. \n",
    "# np.savetxt(\"beta.csv\", pivot_table, delimiter=\",\")"
   ]
  },
  {
   "cell_type": "code",
   "execution_count": 18,
   "metadata": {},
   "outputs": [],
   "source": [
    "# Normalise the beta pivot table matrix. \n",
    "pivot_table_normalised = pivot_table\n",
    "i = 0\n",
    "while i<K: \n",
    "    row = pivot_table_normalised[i, :]\n",
    "    adjusted_row = row + SMALL_NUMBER\n",
    "    normalised_row = adjusted_row / np.sum(adjusted_row)\n",
    "    np.sum(normalised_row)\n",
    "    pivot_table_normalised[i, :] = normalised_row\n",
    "    i+=1"
   ]
  },
  {
   "cell_type": "code",
   "execution_count": 19,
   "metadata": {},
   "outputs": [],
   "source": [
    "# Use this to output a csv for the beta matrix if needed. \n",
    "# np.savetxt(\"beta_matrix.csv\", pivot_table_normalised, delimiter=\",\")"
   ]
  },
  {
   "cell_type": "markdown",
   "metadata": {},
   "source": [
    "# GET ORIGINAL THETA(NORM GAMMA)"
   ]
  },
  {
   "cell_type": "code",
   "execution_count": 20,
   "metadata": {
    "scrolled": true
   },
   "outputs": [],
   "source": [
    "# get the original theta from the database for subsequent comparison \n",
    "# remember theta is just normalised gamma and represents a docs * topics matrix \n",
    "theta = DocumentMass2Motif.objects.filter(document_id__in=experiment_docs)\n",
    "output_data_theta = []\n",
    "for t in theta:\n",
    "    output_data_theta.append([unique_docs[int(t.document_id)], unique_topics[int(t.mass2motif_id)], t.probability])"
   ]
  },
  {
   "cell_type": "code",
   "execution_count": 21,
   "metadata": {},
   "outputs": [
    {
     "data": {
      "text/plain": [
       "[[0, 56, 0.91099997909469],\n",
       " [0, 224, 0.0176142894158035],\n",
       " [0, 471, 0.0160058165083635],\n",
       " [0, 413, 0.0312268150486698],\n",
       " [0, 468, 0.0110920932432385]]"
      ]
     },
     "execution_count": 21,
     "metadata": {},
     "output_type": "execute_result"
    }
   ],
   "source": [
    "# This is the theta output arranged as document/topic/probability \n",
    "output_data_theta"
   ]
  },
  {
   "cell_type": "markdown",
   "metadata": {},
   "source": [
    "# GET ORIGINAL PHI "
   ]
  },
  {
   "cell_type": "code",
   "execution_count": 22,
   "metadata": {
    "scrolled": false
   },
   "outputs": [],
   "source": [
    "# get the features related to the instances\n",
    "feature_instance = FeatureInstance.objects.filter(document_id__in=experiment_docs)\n",
    "feature_instance_join = {}\n",
    "for i in feature_instance:\n",
    "    feature_instance_join.update({int(i.id):[int(i.document_id), int(unique_words[i.feature_id])]})"
   ]
  },
  {
   "cell_type": "code",
   "execution_count": 23,
   "metadata": {},
   "outputs": [],
   "source": [
    "# connect docs, topics and features into a list of lists\n",
    "feature_m2m_instance = FeatureMass2MotifInstance.objects.filter(mass2motif__experiment=experiment)\n",
    "phi_list = []\n",
    "for i in feature_m2m_instance:\n",
    "    if i.featureinstance_id in feature_instance_join.keys():\n",
    "        phi_list.append([feature_instance_join[int(i.featureinstance_id)][0], unique_topics[int(i.mass2motif_id)], feature_instance_join[int(i.featureinstance_id)][1],i.probability])"
   ]
  },
  {
   "cell_type": "code",
   "execution_count": 24,
   "metadata": {},
   "outputs": [],
   "source": [
    "# This gives the original phi, which in abstract terms is a 3D matrix -> docs * topics * words\n",
    "phi_original = []\n",
    "for line in phi_list: \n",
    "    phi_original.append([line[0],line[2],line[1],line[3]])\n",
    "phi_original_array = np.array(phi_original)"
   ]
  },
  {
   "cell_type": "code",
   "execution_count": null,
   "metadata": {},
   "outputs": [],
   "source": [
    "# np.savetxt(\"phi_original_array.csv\", phi_original_array, delimiter=\",\", fmt=\"%s\")\n",
    "# np.save(\"phi_original_array\", phi_original_array)"
   ]
  },
  {
   "cell_type": "markdown",
   "metadata": {},
   "source": [
    "# E-STEP (has 9 steps)"
   ]
  },
  {
   "cell_type": "markdown",
   "metadata": {},
   "source": [
    "## Step 0 - E-step variables"
   ]
  },
  {
   "cell_type": "code",
   "execution_count": 25,
   "metadata": {},
   "outputs": [],
   "source": [
    "# alpha_vector is already mentioned above\n",
    "# beta_matrix is created here from pivot_table_normalised\n",
    "# K and W are from above for total unique topics, total unique words respectively \n",
    "# you need a corpus (created above)\n",
    "corpus = corpus_dict\n",
    "beta_matrix = pivot_table_normalised"
   ]
  },
  {
   "cell_type": "markdown",
   "metadata": {},
   "source": [
    "## Step 1 - Initialise phi matrix"
   ]
  },
  {
   "cell_type": "code",
   "execution_count": 26,
   "metadata": {},
   "outputs": [],
   "source": [
    "# initialise the 3D matrix phi with zeroes\n",
    "phi_matrix={}\n",
    "for doc in corpus: \n",
    "    d = int(doc)\n",
    "    phi_matrix[d] = {}\n",
    "    for word in corpus[doc]:\n",
    "        w = int(word)\n",
    "        phi_matrix[d][w]=np.zeros(K)"
   ]
  },
  {
   "cell_type": "markdown",
   "metadata": {},
   "source": [
    "## Step 2 - initialise gamma matrix"
   ]
  },
  {
   "cell_type": "code",
   "execution_count": 27,
   "metadata": {},
   "outputs": [],
   "source": [
    "# create a gamma matrix with rows as documents and columns as topics \n",
    "# this will later be transposed in order to create the phi matrix in the steps 3-9 below\n",
    "# doc_total is the count of words per doc, and each gamma is alpha plus that\n",
    "\n",
    "gamma_matrix=np.zeros((int(len(corpus)),int(K))) #3x500 shape\n",
    "for doc in corpus:\n",
    "    doc_total=0.0\n",
    "    for word in corpus[doc]:\n",
    "        doc_total += corpus[doc][word]\n",
    "    gamma_matrix[int(doc),:] = alpha_vector + 1.0*(doc_total/K)"
   ]
  },
  {
   "cell_type": "markdown",
   "metadata": {},
   "source": [
    "## Step 3 - 9: repeat until convergence loop"
   ]
  },
  {
   "cell_type": "code",
   "execution_count": 28,
   "metadata": {},
   "outputs": [],
   "source": [
    "# initialise phi and do Blei's loop, 1000 iterations usually suffice (Simon's implementation) \n",
    "test_list = []\n",
    "iterations=1000\n",
    "n_words = int(len(unique_words))\n",
    "temp_beta = np.zeros((K, n_words))\n",
    "current_gamma = np.copy(gamma_matrix)\n",
    "for i in range(iterations):   \n",
    "    prev_gamma = np.copy(current_gamma)\n",
    "    for doc in corpus:\n",
    "        d = int(doc)\n",
    "        doc_dict = corpus[doc]\n",
    "        temp_gamma = np.zeros(K) + alpha_vector\n",
    "        for word in doc_dict:  \n",
    "            w = int(word)\n",
    "            log_phi_matrix = np.log(beta_matrix[:,w]) + psi(gamma_matrix[d,:]).T\n",
    "            log_phi_matrix = np.exp(log_phi_matrix - log_phi_matrix.max())\n",
    "            phi_matrix[d][w] = log_phi_matrix/log_phi_matrix.sum()\n",
    "            temp_gamma += phi_matrix[d][w]*corpus[doc][word]\n",
    "            temp_beta[:,w] += phi_matrix[d][w] * corpus[doc][word]\n",
    "        gamma_matrix[d,:] = temp_gamma\n",
    "        pos = np.where(gamma_matrix[d,:]<SMALL_NUMBER)[0]\n",
    "        gamma_matrix[d,pos] = SMALL_NUMBER\n",
    "    current_gamma = np.copy(gamma_matrix)\n",
    "    gamma_diff = ((current_gamma - prev_gamma)**2).sum()\n",
    "#     beta_matrix = temp_beta\n",
    "    test_list.append([i, gamma_diff])"
   ]
  },
  {
   "cell_type": "code",
   "execution_count": 30,
   "metadata": {},
   "outputs": [
    {
     "data": {
      "text/plain": [
       "[[300, 6.1464856108209924e-18],\n",
       " [301, 5.270656545374251e-18],\n",
       " [302, 4.519174106369379e-18],\n",
       " [303, 3.8751730413781504e-18],\n",
       " [304, 3.3229082619227394e-18],\n",
       " [305, 2.8497370967689756e-18],\n",
       " [306, 2.4431722603929954e-18],\n",
       " [307, 2.095117318601081e-18],\n",
       " [308, 1.7966168884247287e-18],\n",
       " [309, 1.5403511926075413e-18]]"
      ]
     },
     "execution_count": 30,
     "metadata": {},
     "output_type": "execute_result"
    }
   ],
   "source": [
    "# test the output list of the above e-step \n",
    "test_list[300:310]"
   ]
  },
  {
   "cell_type": "code",
   "execution_count": 31,
   "metadata": {},
   "outputs": [],
   "source": [
    "# get an array output if necessary \n",
    "# gamma_diff_array = np.array(test_list)\n",
    "# np.savetxt(\"gamma_diff_array.csv\", gamma_diff_array, delimiter=\",\", fmt=\"%s\")"
   ]
  },
  {
   "cell_type": "markdown",
   "metadata": {},
   "source": [
    "# COMPARISON OF GAMMA & PHI (original vs calculated csv exports) "
   ]
  },
  {
   "cell_type": "markdown",
   "metadata": {},
   "source": [
    "## Gamma comparison / actually Theta comparison "
   ]
  },
  {
   "cell_type": "code",
   "execution_count": 32,
   "metadata": {},
   "outputs": [],
   "source": [
    "# output_data_theta is the original data we work with, which is an 3 column matrix (doc_id, topic_id, probability)\n",
    "# we aim to transform output_data_theta into a normalised vector \n",
    "# note that this implementation only works for a single document \n",
    "gamma_vector_original = np.zeros(K) \n",
    "for line in range(len(output_data_theta)):\n",
    "    pos = int(output_data_theta[line][1])\n",
    "    prob = output_data_theta[line][2]\n",
    "    gamma_vector_original[pos] = prob"
   ]
  },
  {
   "cell_type": "code",
   "execution_count": 34,
   "metadata": {},
   "outputs": [],
   "source": [
    "# normalise the original gamma vector\n",
    "gamma_vector_original += SMALL_NUMBER\n",
    "gamma_vector_original /= np.sum(gamma_vector_original)"
   ]
  },
  {
   "cell_type": "code",
   "execution_count": 35,
   "metadata": {},
   "outputs": [
    {
     "data": {
      "text/plain": [
       "array([1.77776917e-104, 1.58553988e-104, 2.34787588e-003, 3.39015822e-003,\n",
       "       2.11097404e-104, 4.33213577e-004, 1.95999256e-104, 2.16289270e-104,\n",
       "       3.81605084e-003, 2.04727681e-104, 1.77777344e-104, 2.22120956e-104,\n",
       "       2.19329332e-104, 1.86622451e-104, 4.25591824e-003, 1.58553988e-104,\n",
       "       4.98854379e-003, 2.09138973e-104, 1.86622464e-104, 1.91964971e-104,\n",
       "       2.40251753e-104, 2.20752754e-104, 1.77835002e-104, 2.20752754e-104,\n",
       "       1.58553988e-104, 1.86622452e-104, 1.99321204e-104, 1.77778213e-104,\n",
       "       1.58553988e-104, 2.35642116e-104, 2.07027873e-104, 3.05955820e-003,\n",
       "       2.97535420e-003, 1.58553988e-104, 1.86622467e-104, 1.77777581e-104,\n",
       "       2.51428735e-004, 1.95999256e-104, 1.95999256e-104, 1.58553988e-104,\n",
       "       1.86622451e-104, 1.32164583e-003, 2.09138973e-104, 2.02185734e-104,\n",
       "       3.41484769e-003, 1.58553988e-104, 1.99321204e-104, 2.17844138e-104,\n",
       "       2.27140091e-104, 2.07027873e-104, 1.74528677e-003, 2.07027873e-104,\n",
       "       2.04727681e-104, 1.58553988e-104, 2.64340668e-104, 2.23439442e-104,\n",
       "       6.61634103e-001, 1.77777069e-104, 2.21298662e-003, 2.07027873e-104,\n",
       "       1.91964971e-104, 1.92000793e-104, 1.91964971e-104, 2.02185734e-104,\n",
       "       1.58553988e-104, 1.86622451e-104, 5.32230630e-004, 2.04727681e-104,\n",
       "       5.07470880e-004, 1.91964971e-104, 9.89951430e-004, 2.07027873e-104,\n",
       "       2.58805851e-104, 1.65265074e-003, 1.68583757e-003, 1.58553988e-104,\n",
       "       2.16289270e-104, 1.86622466e-104, 2.12929520e-104, 3.07606107e-004,\n",
       "       2.12929520e-104, 1.86622467e-104, 1.58553988e-104, 2.04727681e-104,\n",
       "       2.09138973e-104, 2.24712882e-104, 2.11097404e-104, 2.39363765e-104,\n",
       "       5.69489876e-004, 1.86622454e-104, 2.07027873e-104, 2.81121408e-003,\n",
       "       2.54162281e-104, 1.95999256e-104, 1.95999256e-104, 1.99321204e-104,\n",
       "       1.77777725e-104, 2.07027873e-104, 1.77776907e-104, 2.12929520e-104,\n",
       "       2.08881314e-003, 1.99321204e-104, 2.44269166e-003, 2.11097404e-104,\n",
       "       1.99321204e-104, 1.86622452e-104, 1.77778530e-104, 1.88901108e-003,\n",
       "       1.58553988e-104, 1.91964971e-104, 1.58553988e-104, 1.86622468e-104,\n",
       "       2.56856227e-104, 7.46456252e-004, 1.91964972e-104, 1.77776927e-104,\n",
       "       2.12929520e-104, 1.58553988e-104, 4.57523644e-004, 4.48022017e-003,\n",
       "       1.86622452e-104, 1.86622453e-104, 2.12929520e-104, 2.14655068e-104,\n",
       "       2.09138973e-104, 1.99321204e-104, 1.94682428e-003, 1.91964971e-104,\n",
       "       1.04829888e-003, 2.02185734e-104, 6.51217165e-004, 1.79731950e-003,\n",
       "       2.02185734e-104, 1.86622451e-104, 2.52770966e-104, 1.86622454e-104,\n",
       "       2.23439442e-104, 2.07027873e-104, 1.58553988e-104, 1.86622451e-104,\n",
       "       2.09138973e-104, 2.17844138e-104, 1.77849706e-104, 1.77777009e-104,\n",
       "       2.02185734e-104, 1.86622451e-104, 1.91964972e-104, 2.35642116e-104,\n",
       "       1.58553988e-104, 1.86622451e-104, 2.35642116e-104, 2.43657772e-104,\n",
       "       1.95999256e-104, 1.58553988e-104, 2.28300332e-104, 1.84579133e-003,\n",
       "       2.17844138e-104, 2.42826812e-104, 1.22723835e-004, 4.32048084e-002,\n",
       "       3.93931398e-004, 1.58553988e-104, 1.08918120e-003, 1.86622457e-104,\n",
       "       2.11097404e-104, 1.54203152e-004, 2.11097404e-104, 1.77776915e-104,\n",
       "       2.07027873e-104, 1.86622451e-104, 1.91964972e-104, 2.17844138e-104,\n",
       "       1.58553988e-104, 2.32644031e-104, 1.77776925e-104, 2.11097404e-104,\n",
       "       1.73756268e-003, 1.77777458e-104, 7.23569871e-004, 2.25945278e-104,\n",
       "       1.77776924e-104, 1.86622451e-104, 2.16289270e-104, 1.58553988e-104,\n",
       "       1.86622460e-104, 1.91964971e-104, 1.58553988e-104, 2.02185734e-104,\n",
       "       1.86622451e-104, 1.99321204e-104, 1.58553988e-104, 1.91964971e-104,\n",
       "       2.05468939e-003, 1.58553988e-104, 1.95999256e-104, 1.26899419e-003,\n",
       "       1.58448450e-003, 1.10254626e-003, 1.95999256e-104, 6.64184985e-004,\n",
       "       2.97904778e-003, 3.22331654e-003, 2.07027873e-104, 2.04727681e-104,\n",
       "       1.95999256e-104, 2.04727681e-104, 2.02185734e-104, 1.91964971e-104,\n",
       "       1.91964971e-104, 1.99321204e-104, 1.58553988e-104, 2.14655068e-104,\n",
       "       2.04727681e-104, 2.23439442e-104, 2.04727681e-104, 2.12929520e-104,\n",
       "       1.58553988e-104, 1.99321204e-104, 1.58553988e-104, 1.86622451e-104,\n",
       "       2.04727681e-104, 1.99321204e-104, 1.86622452e-104, 1.99321204e-104,\n",
       "       1.77062632e-002, 2.34664404e-104, 2.16289270e-104, 2.35642116e-104,\n",
       "       1.99321204e-104, 1.95999256e-104, 2.07204058e-003, 2.09138973e-104,\n",
       "       1.77780835e-104, 1.99321204e-104, 2.13140627e-003, 2.17844138e-104,\n",
       "       1.58553988e-104, 2.72192786e-104, 1.58553988e-104, 1.95999256e-104,\n",
       "       2.04727681e-104, 1.86622452e-104, 1.99321204e-104, 1.86622452e-104,\n",
       "       1.58553988e-104, 2.17844138e-104, 3.37222919e-003, 1.58553988e-104,\n",
       "       1.91964971e-104, 1.95999256e-104, 1.91964972e-104, 1.75495063e-003,\n",
       "       7.23870012e-003, 2.09138973e-104, 7.39830551e-003, 1.95999256e-104,\n",
       "       1.58553988e-104, 2.49146836e-104, 1.99321204e-104, 2.07027873e-104,\n",
       "       1.86622451e-104, 7.22114633e-004, 1.77777045e-104, 2.04727681e-104,\n",
       "       2.22120992e-104, 2.04727681e-104, 2.11097404e-104, 1.95999256e-104,\n",
       "       2.14655068e-104, 4.57659339e-004, 1.58553988e-104, 2.51511293e-002,\n",
       "       1.77777060e-104, 1.86622451e-104, 1.99321204e-104, 2.62544010e-104,\n",
       "       4.36185611e-003, 2.19329332e-104, 2.92893247e-004, 1.58553988e-104,\n",
       "       1.66809889e-003, 1.58553988e-104, 1.77776926e-104, 5.11615958e-004,\n",
       "       2.07027873e-104, 1.91964971e-104, 2.47632393e-104, 1.91964971e-104,\n",
       "       1.58553988e-104, 1.77776934e-104, 1.95999256e-104, 1.86622458e-104,\n",
       "       1.86624195e-104, 1.86622451e-104, 1.77776986e-104, 4.71833936e-004,\n",
       "       1.91964971e-104, 2.04727681e-104, 3.49526686e-003, 1.77776966e-104,\n",
       "       1.95999256e-104, 1.86622453e-104, 1.77785599e-104, 2.33574718e-003,\n",
       "       1.58553988e-104, 1.58553988e-104, 1.58553988e-104, 1.58553988e-104,\n",
       "       1.86622451e-104, 2.02185734e-104, 1.91964971e-104, 2.12929520e-104,\n",
       "       1.58553988e-104, 1.86622451e-104, 2.04727681e-104, 1.58553988e-104,\n",
       "       5.60182704e-004, 1.91964971e-104, 4.57506940e-003, 6.79365670e-004,\n",
       "       1.99321204e-104, 2.32644031e-104, 1.99321204e-104, 2.17123593e-003,\n",
       "       1.77776990e-104, 1.86622932e-104, 7.99778844e-004, 2.04727681e-104,\n",
       "       2.02185734e-104, 2.04727681e-104, 1.58553988e-104, 1.58553988e-104,\n",
       "       1.58553988e-104, 1.95999256e-104, 2.22120956e-104, 1.86622451e-104,\n",
       "       1.95999256e-104, 8.18737189e-004, 2.04727681e-104, 2.02185734e-104,\n",
       "       1.99321204e-104, 1.86622470e-104, 1.81776120e-003, 1.73103674e-003,\n",
       "       4.59398968e-003, 1.95999256e-104, 2.28300332e-104, 1.91964971e-104,\n",
       "       8.40566688e-004, 2.16289270e-104, 1.77776959e-104, 3.22367461e-003,\n",
       "       1.01721913e-003, 2.17329122e-003, 1.77776988e-104, 1.58553988e-104,\n",
       "       5.19411107e-004, 2.48724249e-003, 2.02185734e-104, 2.04727681e-104,\n",
       "       1.77777904e-104, 7.68279367e-004, 2.12929520e-104, 1.58553988e-104,\n",
       "       2.09138973e-104, 1.77787007e-104, 2.38459698e-104, 1.86622451e-104,\n",
       "       2.11097404e-104, 2.11097404e-104, 1.58553988e-104, 2.29823318e-003,\n",
       "       3.40878710e-104, 2.22120956e-104, 4.11506812e-003, 1.99321204e-104,\n",
       "       2.09138973e-104, 2.14655068e-104, 2.27140091e-104, 1.95999256e-104,\n",
       "       1.59758300e-003, 5.77256660e-004, 2.22120956e-104, 1.58553988e-104,\n",
       "       1.58553988e-104, 1.91964971e-104, 4.18653084e-004, 8.34962446e-004,\n",
       "       1.95999256e-104, 2.19329332e-104, 1.77785394e-104, 2.20752754e-104,\n",
       "       1.99321204e-104, 2.07027873e-104, 1.91964972e-104, 2.04727681e-104,\n",
       "       2.20752754e-104, 2.51054436e-003, 1.77776962e-104, 1.91964971e-104,\n",
       "       1.91964971e-104, 2.17844138e-104, 2.85937545e-104, 1.58553988e-104,\n",
       "       2.07027873e-104, 1.99321204e-104, 2.19329332e-104, 1.86622451e-104,\n",
       "       2.12929520e-104, 2.09138973e-104, 2.11097404e-104, 2.83635467e-104,\n",
       "       2.40251753e-104, 3.12335872e-002, 8.12307006e-004, 2.37538701e-104,\n",
       "       1.55771292e-004, 2.74298016e-104, 2.34664404e-104, 2.04727681e-104,\n",
       "       1.77777058e-104, 2.41982579e-104, 4.01836954e-003, 1.95999256e-104,\n",
       "       1.77776953e-104, 2.31598537e-104, 3.70423125e-003, 2.37538701e-104,\n",
       "       3.08648873e-104, 2.91243710e-104, 2.91673081e-104, 3.95029865e-004,\n",
       "       3.73252890e-104, 2.83168031e-104, 2.02185734e-104, 3.07027803e-003,\n",
       "       1.77776937e-104, 2.27140091e-104, 5.86045499e-003, 2.36599845e-104,\n",
       "       2.34995856e-003, 5.60831716e-004, 8.47069432e-004, 2.07027873e-104,\n",
       "       2.44476036e-104, 1.95999256e-104, 1.91964971e-104, 2.19329332e-104,\n",
       "       2.42826812e-104, 1.95999256e-104, 1.58553988e-104, 1.58553988e-104,\n",
       "       1.91966012e-104, 2.27140091e-104, 1.58553988e-104, 2.04727681e-104,\n",
       "       3.39177605e-003, 2.58162333e-104, 2.39363765e-104, 2.09138973e-104,\n",
       "       1.95999256e-104, 1.58553988e-104, 1.77777030e-104, 1.95999256e-104,\n",
       "       1.99321204e-104, 1.95999256e-104, 3.15410797e-104, 2.83635467e-104,\n",
       "       1.10972236e-002, 2.46859867e-104, 3.16939929e-003, 1.60124006e-002,\n",
       "       2.41982579e-104, 2.98707632e-104, 2.28300332e-104, 3.26039206e-104,\n",
       "       2.07027873e-104, 2.46076597e-104, 2.35642116e-104, 2.29823318e-003,\n",
       "       2.56193263e-104, 2.66668827e-104, 2.02185734e-104, 2.37538701e-104,\n",
       "       1.86622451e-104, 1.86974368e-003, 2.41124450e-104, 2.11097404e-104,\n",
       "       2.02185734e-104, 2.19329332e-104, 2.16289270e-104, 2.16289270e-104,\n",
       "       2.16289270e-104, 2.28300332e-104, 2.19329332e-104, 2.31598537e-104,\n",
       "       2.41982579e-104, 2.54846507e-104, 2.85023594e-104, 2.28124699e-003])"
      ]
     },
     "execution_count": 35,
     "metadata": {},
     "output_type": "execute_result"
    }
   ],
   "source": [
    "# normalise calculated gamma vector\n",
    "gamma_vector_calculated = np.zeros(K) \n",
    "gamma_vector_calculated = np.copy(gamma_matrix[0])\n",
    "gamma_vector_calculated /= np.sum(gamma_vector_calculated)"
   ]
  },
  {
   "cell_type": "code",
   "execution_count": 53,
   "metadata": {},
   "outputs": [],
   "source": [
    "# export for comparison if needed\n",
    "np.savetxt(\"compare_gamma1.csv\", gamma_vector_original, delimiter=\",\", fmt=\"%s\")\n",
    "np.savetxt(\"compare_gamma2.csv\", gamma_vector_calculated, delimiter=\",\", fmt=\"%s\")"
   ]
  },
  {
   "cell_type": "code",
   "execution_count": 38,
   "metadata": {},
   "outputs": [],
   "source": [
    "#get a list of topics from original gamma/theta\n",
    "topics_tested = np.array(output_data_theta)[:,1]\n",
    "temp = []  \n",
    "for t in topics_tested: \n",
    "    temp.append(int(t))\n",
    "topics_tested = temp"
   ]
  },
  {
   "cell_type": "code",
   "execution_count": null,
   "metadata": {},
   "outputs": [],
   "source": [
    "gamma_diff_array = []\n",
    "for t in topics_tested: \n",
    "    gamma_diff_array.append([])\n",
    "    "
   ]
  },
  {
   "cell_type": "markdown",
   "metadata": {},
   "source": [
    "## Phi comparison (for words above min \"noise\" intensity)"
   ]
  },
  {
   "cell_type": "code",
   "execution_count": 40,
   "metadata": {},
   "outputs": [],
   "source": [
    "#Get the words from de corpus dict that have the highest intensity. \n",
    "material_words = []\n",
    "for doc in corpus_dict: \n",
    "    for word in corpus_dict[doc]:\n",
    "        w = corpus_dict[doc][word]\n",
    "        if int(w) > 20:\n",
    "            material_words.append([int(word), w]) "
   ]
  },
  {
   "cell_type": "code",
   "execution_count": 41,
   "metadata": {},
   "outputs": [],
   "source": [
    "material_words_dict = {}\n",
    "for line in material_words:\n",
    "    material_words_dict.update({line[0] : line[1]})"
   ]
  },
  {
   "cell_type": "code",
   "execution_count": 42,
   "metadata": {},
   "outputs": [],
   "source": [
    "#Make a numpy array. \n",
    "material_words_array = np.array(material_words)"
   ]
  },
  {
   "cell_type": "code",
   "execution_count": 43,
   "metadata": {},
   "outputs": [],
   "source": [
    "#Sort the array descending order. \n",
    "material_words_array = material_words_array[(-material_words_array)[:,1].argsort()]"
   ]
  },
  {
   "cell_type": "code",
   "execution_count": 44,
   "metadata": {},
   "outputs": [],
   "source": [
    "#Choose material words for comparison loop.\n",
    "material_words_list = list(material_words_array[:,0])"
   ]
  },
  {
   "cell_type": "code",
   "execution_count": 45,
   "metadata": {},
   "outputs": [
    {
     "data": {
      "text/plain": [
       "46"
      ]
     },
     "execution_count": 45,
     "metadata": {},
     "output_type": "execute_result"
    }
   ],
   "source": [
    "len(material_words_list)"
   ]
  },
  {
   "cell_type": "code",
   "execution_count": 46,
   "metadata": {},
   "outputs": [],
   "source": [
    "phi_comparison = []\n",
    "for line in phi_list: \n",
    "    line_word = int(line[2])\n",
    "    if line_word in material_words_list:\n",
    "        line_doc = unique_docs[line[0]]\n",
    "        line_topic = int(line[1])\n",
    "        line_original_prob = line[3]\n",
    "        line_prob = phi_matrix[line_doc][line_word][line_topic]\n",
    "        phi_diff = abs(line_original_prob-line_prob)\n",
    "        intensity = material_words_dict[line_word]\n",
    "        phi_comparison.append([line_doc, line_word, line_topic, line_original_prob, line_prob, phi_diff, intensity])"
   ]
  },
  {
   "cell_type": "code",
   "execution_count": 47,
   "metadata": {},
   "outputs": [
    {
     "data": {
      "text/plain": [
       "51"
      ]
     },
     "execution_count": 47,
     "metadata": {},
     "output_type": "execute_result"
    }
   ],
   "source": [
    "len(phi_comparison)"
   ]
  },
  {
   "cell_type": "code",
   "execution_count": 48,
   "metadata": {},
   "outputs": [],
   "source": [
    "phi_comparison_array = np.array(phi_comparison)"
   ]
  },
  {
   "cell_type": "code",
   "execution_count": 49,
   "metadata": {},
   "outputs": [
    {
     "data": {
      "text/plain": [
       "0.32217156271421166"
      ]
     },
     "execution_count": 49,
     "metadata": {},
     "output_type": "execute_result"
    }
   ],
   "source": [
    "max_phi_diff = list(phi_comparison_array[:,5])\n",
    "max_phi_diff = [float(i) for i in max_phi_diff]\n",
    "max_phi_diff.sort()\n",
    "max_phi_diff = max_phi_diff[-1]\n",
    "max_phi_diff"
   ]
  },
  {
   "cell_type": "code",
   "execution_count": 50,
   "metadata": {},
   "outputs": [
    {
     "data": {
      "text/plain": [
       "array([[3.47189009e-05, 1.00000000e+03],\n",
       "       [1.06976759e-04, 1.97000000e+02],\n",
       "       [1.09728477e-01, 2.10000000e+01],\n",
       "       [7.15651090e-03, 2.40000000e+01],\n",
       "       [9.53491275e-02, 2.20000000e+01],\n",
       "       [6.59614044e-02, 2.20000000e+01],\n",
       "       [2.23457714e-02, 5.50000000e+01],\n",
       "       [3.98754744e-02, 2.20000000e+01],\n",
       "       [1.81382041e-01, 2.80000000e+01],\n",
       "       [1.49122591e-02, 2.40000000e+01],\n",
       "       [2.39852564e-02, 1.31000000e+02],\n",
       "       [9.64630166e-03, 2.97000000e+02],\n",
       "       [2.78306677e-01, 3.70000000e+01],\n",
       "       [1.16137013e-01, 4.60000000e+01],\n",
       "       [1.85349487e-02, 2.40000000e+01],\n",
       "       [4.09072398e-02, 4.83000000e+02],\n",
       "       [3.48140729e-04, 7.60000000e+01],\n",
       "       [6.25323953e-02, 2.20000000e+01],\n",
       "       [1.44772802e-02, 1.31000000e+02],\n",
       "       [4.18488369e-04, 7.60000000e+01],\n",
       "       [1.50189519e-03, 2.10000000e+01],\n",
       "       [2.37402298e-05, 4.83000000e+02],\n",
       "       [2.48331356e-02, 3.60000000e+01],\n",
       "       [5.05633179e-02, 2.40000000e+01],\n",
       "       [5.23183784e-03, 2.97000000e+02],\n",
       "       [3.22171563e-01, 2.40000000e+01],\n",
       "       [4.53775382e-03, 3.60000000e+01],\n",
       "       [9.55459827e-03, 7.60000000e+01],\n",
       "       [1.01990844e-01, 4.50000000e+01],\n",
       "       [3.35838669e-02, 2.10000000e+01],\n",
       "       [6.15675910e-02, 2.40000000e+01],\n",
       "       [1.66555370e-03, 2.10000000e+01],\n",
       "       [2.04175779e-01, 2.40000000e+01],\n",
       "       [3.01393506e-03, 7.60000000e+01],\n",
       "       [1.85032662e-01, 3.40000000e+01],\n",
       "       [1.40432504e-03, 2.40000000e+01],\n",
       "       [3.30578872e-03, 5.50000000e+01],\n",
       "       [9.49639645e-04, 2.80000000e+01],\n",
       "       [2.81266350e-01, 2.70000000e+01],\n",
       "       [8.54513463e-04, 2.90000000e+01],\n",
       "       [1.59764556e-03, 2.10000000e+01],\n",
       "       [1.95935775e-04, 2.20000000e+01],\n",
       "       [6.08940137e-04, 2.40000000e+01],\n",
       "       [3.90301604e-04, 8.40000000e+01],\n",
       "       [2.22614061e-02, 3.70000000e+01],\n",
       "       [8.92684188e-04, 2.90000000e+01],\n",
       "       [2.16811639e-04, 1.97000000e+02],\n",
       "       [8.53591550e-03, 3.70000000e+01],\n",
       "       [4.62244188e-04, 7.00000000e+01],\n",
       "       [4.11148881e-04, 1.01000000e+02],\n",
       "       [8.92684188e-04, 2.90000000e+01]])"
      ]
     },
     "execution_count": 50,
     "metadata": {},
     "output_type": "execute_result"
    }
   ],
   "source": [
    "phi_comparison_array[:,5:]"
   ]
  },
  {
   "cell_type": "code",
   "execution_count": 51,
   "metadata": {},
   "outputs": [],
   "source": [
    "phi_comparison_intenphi = np.copy(phi_comparison_array[:,5:])"
   ]
  },
  {
   "cell_type": "code",
   "execution_count": 52,
   "metadata": {
    "scrolled": true
   },
   "outputs": [
    {
     "data": {
      "image/png": "[encoded data removed]",
      "text/plain": [
       "<Figure size 1440x720 with 1 Axes>"
      ]
     },
     "metadata": {
      "needs_background": "light"
     },
     "output_type": "display_data"
    }
   ],
   "source": [
    "# Plot word intensity on x axis and phi difference on y axis on a scatterplot. \n",
    "x = phi_comparison_intenphi[:,1]\n",
    "y = phi_comparison_intenphi[:,0]\n",
    "fig = plt.figure()\n",
    "scatterplot = fig.add_subplot(1,1,1)\n",
    "plt.scatter(x,y)\n",
    "fig.set_size_inches(20,10)\n",
    "plt.title(\"INTENSITY PHI_DIFF\")\n",
    "plt.xlabel(\"intensity\")\n",
    "plt.ylabel(\"phi_diff\")\n",
    "plt.show()"
   ]
  },
  {
   "cell_type": "markdown",
   "metadata": {},
   "source": [
    "## Theta Comparison (Gamma Comparison) "
   ]
  },
  {
   "cell_type": "code",
   "execution_count": null,
   "metadata": {},
   "outputs": [],
   "source": [
    "original_"
   ]
  },
  {
   "cell_type": "code",
   "execution_count": null,
   "metadata": {},
   "outputs": [],
   "source": [
    "phi_original"
   ]
  },
  {
   "cell_type": "code",
   "execution_count": 54,
   "metadata": {},
   "outputs": [
    {
     "name": "stdout",
     "output_type": "stream",
     "text": [
      "('topic', 'material', 'immaterial')\n",
      "(56, 41, 747)\n",
      "(224, 2, 1)\n",
      "(471, 1, 0)\n",
      "(413, 1, 0)\n",
      "(468, 1, 0)\n"
     ]
    }
   ],
   "source": [
    "topics_tested = np.array(output_data_theta)[:,1]\n",
    "temp =[]  \n",
    "for t in topics_tested: \n",
    "    temp.append(int(t))\n",
    "topics_tested = temp\n",
    "print(\"topic\", \"material\", \"immaterial\")\n",
    "for topic in topics_tested: \n",
    "    topic_tested = topic\n",
    "    count_material = 0\n",
    "    count_immaterial = 0\n",
    "    for line in phi_original: \n",
    "        if line[2] == topic_tested:\n",
    "            if line[1] not in material_words_list:\n",
    "                count_immaterial += 1\n",
    "            else:\n",
    "                count_material += 1\n",
    "    print(topic_tested, count_material, count_immaterial)"
   ]
  },
  {
   "cell_type": "code",
   "execution_count": null,
   "metadata": {},
   "outputs": [],
   "source": [
    "print(385+431)\n",
    "len(corpus_dict['0'])\n"
   ]
  }
 ],
 "metadata": {
  "kernelspec": {
   "display_name": "Python 2",
   "language": "python",
   "name": "python2"
  },
  "language_info": {
   "codemirror_mode": {
    "name": "ipython",
    "version": 2
   },
   "file_extension": ".py",
   "mimetype": "text/x-python",
   "name": "python",
   "nbconvert_exporter": "python",
   "pygments_lexer": "ipython2",
   "version": "2.7.16"
  }
 },
 "nbformat": 4,
 "nbformat_minor": 2
}
