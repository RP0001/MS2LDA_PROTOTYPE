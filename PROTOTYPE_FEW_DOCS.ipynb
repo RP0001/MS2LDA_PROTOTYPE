{
 "cells": [
  {
   "cell_type": "markdown",
   "metadata": {},
   "source": [
    "# IMPORTS"
   ]
  },
  {
   "cell_type": "code",
   "execution_count": 1,
   "metadata": {},
   "outputs": [
    {
     "name": "stdout",
     "output_type": "stream",
     "text": [
      "MEDIA_ROOT is C:\\Users\\rpetr\\OneDrive\\Desktop\\DISS_CODE\\ms2ldaviz\\ms2ldaviz\\media\n"
     ]
    }
   ],
   "source": [
    "# all the relevant imports are done here\n",
    "%load_ext autoreload\n",
    "%autoreload 2\n",
    "%matplotlib inline\n",
    "import sys\n",
    "basedir = 'C:\\\\Users\\\\rpetr\\\\OneDrive\\\\Desktop\\\\DISS_CODE\\\\ms2ldaviz\\\\ms2ldaviz'\n",
    "sys.path.append(basedir)\n",
    "import django\n",
    "import json\n",
    "django.setup()\n",
    "from basicviz.models import Experiment, Alpha, Mass2MotifInstance, FeatureInstance, Feature, Document, Mass2Motif, DocumentMass2Motif, FeatureMass2MotifInstance\n",
    "import numpy as np\n",
    "import pylab as plt\n",
    "import csv\n",
    "from scipy.special import polygamma as pg\n",
    "from scipy.special import psi as psi"
   ]
  },
  {
   "cell_type": "markdown",
   "metadata": {},
   "source": [
    "# VARIABLES"
   ]
  },
  {
   "cell_type": "markdown",
   "metadata": {},
   "source": [
    "###### Choose an experiment. In this case it is experiment 190. It has 500 topics, 27923 words and 2132 unique docs. These were tested against the database using appropriate queries. "
   ]
  },
  {
   "cell_type": "code",
   "execution_count": 2,
   "metadata": {},
   "outputs": [],
   "source": [
    "experiment_id=190 \n",
    "experiment = Experiment.objects.get(id=experiment_id)\n",
    "min_prob_beta = 1e-3\n",
    "SMALL_NUMBER = 1e-100\n",
    "eta = 0.1 #needed for beta m-step"
   ]
  },
  {
   "cell_type": "markdown",
   "metadata": {},
   "source": [
    "# CORPUS (features for 1 document in experiment 190)"
   ]
  },
  {
   "cell_type": "markdown",
   "metadata": {},
   "source": [
    "###### First we get all features in the database for our experiment. "
   ]
  },
  {
   "cell_type": "code",
   "execution_count": 3,
   "metadata": {},
   "outputs": [],
   "source": [
    "# Get all features in the database relevant for our experiment. \n",
    "features = Feature.objects.filter(experiment_id=experiment)\n",
    "experiment_words = []\n",
    "for f in features:\n",
    "     if f.id not in experiment_words: \n",
    "        experiment_words.append(f.id)"
   ]
  },
  {
   "cell_type": "code",
   "execution_count": 14,
   "metadata": {},
   "outputs": [],
   "source": [
    "# Unique words lists all the features as {feature_id:incremental_id} word value pairs. \n",
    "unique_words = {}\n",
    "index = 0\n",
    "for word in experiment_words:\n",
    "    if word not in unique_words.keys():\n",
    "        unique_words.update({word:index})\n",
    "        index+=1"
   ]
  },
  {
   "cell_type": "markdown",
   "metadata": {},
   "source": [
    "###### Then we get a random document for our experiment from the database. "
   ]
  },
  {
   "cell_type": "code",
   "execution_count": 16,
   "metadata": {},
   "outputs": [],
   "source": [
    "#We will use a single document for our experiment. Modify here if more documents are needed. \n",
    "experiment_docs=[269323]"
   ]
  },
  {
   "cell_type": "code",
   "execution_count": 17,
   "metadata": {},
   "outputs": [],
   "source": [
    "#unique documents is the dictionary -> doc: id \n",
    "unique_docs = {}\n",
    "index = 0 \n",
    "for doc in experiment_docs: \n",
    "    unique_docs.update({doc:index})\n",
    "    index+=1"
   ]
  },
  {
   "cell_type": "markdown",
   "metadata": {},
   "source": [
    "###### Get the features only for the specific documents and create the corpus dictionary {DOC:{WORD:COUNT}}. "
   ]
  },
  {
   "cell_type": "code",
   "execution_count": 18,
   "metadata": {},
   "outputs": [],
   "source": [
    "# Get features for all documents chosen. The output columns are doc_id, word_id and intensity.\n",
    "feature_instances = FeatureInstance.objects.filter(document_id__in=unique_docs.keys(), feature_id__in=unique_words.keys())\n",
    "doc_word_data = []\n",
    "for f in feature_instances:\n",
    "    doc_word_data.append([unique_docs[int(f.document_id)], unique_words[int(f.feature_id)], f.intensity])"
   ]
  },
  {
   "cell_type": "code",
   "execution_count": 19,
   "metadata": {},
   "outputs": [],
   "source": [
    "# Output a csv for the corpus in order to create a dictionary made up of {document_id:{word_id:intensity}}. \n",
    "# Intensity in this case is an integer (count).\n",
    "doc_word_array = np.array(doc_word_data)\n",
    "np.savetxt(\"corpus_data.csv\", doc_word_array, delimiter=\",\", fmt=\"%s\")\n",
    "np.save(\"corpus_data\",doc_word_array)"
   ]
  },
  {
   "cell_type": "code",
   "execution_count": 25,
   "metadata": {
    "scrolled": true
   },
   "outputs": [],
   "source": [
    "#CREATE THE CORPUS - a dictionary where key is document id and value is a dict of the count of words\n",
    "corpus_dict = {}\n",
    "with open(\"corpus_data.csv\", 'r') as data_file:\n",
    "    data = csv.DictReader(data_file, delimiter=\",\")\n",
    "    for row in data:\n",
    "        item = corpus_dict.get(row[\"doc_id\"], dict())\n",
    "        item[row[\"word_id\"]] = int(row[\"count\"])\n",
    "        corpus_dict[row[\"doc_id\"]] = item\n",
    "#Get the corpus dict whenever this is necessary"
   ]
  },
  {
   "cell_type": "markdown",
   "metadata": {},
   "source": [
    "# UNIQUE TOPICS"
   ]
  },
  {
   "cell_type": "code",
   "execution_count": 31,
   "metadata": {},
   "outputs": [],
   "source": [
    "# Get the 500 unique topics for the experiment. \n",
    "mi = Mass2Motif.objects.filter(experiment=experiment)\n",
    "unique_topics = {}\n",
    "index=0\n",
    "for m in mi: \n",
    "    unique_topics.update({m.id:index})\n",
    "    index+=1"
   ]
  },
  {
   "cell_type": "markdown",
   "metadata": {},
   "source": [
    "# ALPHA"
   ]
  },
  {
   "cell_type": "code",
   "execution_count": 184,
   "metadata": {},
   "outputs": [],
   "source": [
    "# get the alphas from the database (it is a vector)\n",
    "al = Alpha.objects.filter(mass2motif__experiment=experiment).order_by('mass2motif')\n",
    "alphas = {}\n",
    "for a in al:\n",
    "    alphas.update({unique_topics[a.mass2motif_id]: a.value})\n",
    "n_motif = len(alphas)\n",
    "alpha_vec = np.zeros(n_motif)\n",
    "for pos,val in alphas.items():\n",
    "    alpha_vec[pos] = val"
   ]
  },
  {
   "cell_type": "code",
   "execution_count": 186,
   "metadata": {},
   "outputs": [],
   "source": [
    "alpha_vector = alpha_vec"
   ]
  },
  {
   "cell_type": "code",
   "execution_count": 45,
   "metadata": {},
   "outputs": [],
   "source": [
    "# save to text if necessary \n",
    "# np.savetxt(\"alpha.csv\", alpha_vector, delimiter=\",\", fmt=\"%s\")"
   ]
  },
  {
   "cell_type": "markdown",
   "metadata": {},
   "source": [
    "# BETA"
   ]
  },
  {
   "cell_type": "code",
   "execution_count": 94,
   "metadata": {},
   "outputs": [],
   "source": [
    "# Get beta from the database (it is a topic * words 2d matrix - each cell is a probability)\n",
    "beta_pre_pivot = []\n",
    "mi = Mass2MotifInstance.objects.filter(mass2motif__experiment=experiment)\n",
    "for m in mi:\n",
    "    beta_pre_pivot.append([unique_topics[m.mass2motif_id], unique_words[m.feature_id], m.probability]) "
   ]
  },
  {
   "cell_type": "code",
   "execution_count": 95,
   "metadata": {
    "scrolled": true
   },
   "outputs": [],
   "source": [
    "# Some topics may have 0 words - these have been reincluded \n",
    "# Creating array from the beta data and subsequently creating a pivot (matrix)\n",
    "output_arr_beta = np.array(beta_pre_pivot)\n",
    "K = len(unique_topics)\n",
    "W = len(unique_words)\n",
    "pivot_table = np.zeros((K, W)).astype('float')\n",
    "i = 0\n",
    "max = len(beta_pre_pivot)\n",
    "while i<max:\n",
    "    pivot_table[int(output_arr_beta[i][0]),int(output_arr_beta[i][1])]=output_arr_beta[i][2]\n",
    "    i+=1"
   ]
  },
  {
   "cell_type": "code",
   "execution_count": 96,
   "metadata": {},
   "outputs": [],
   "source": [
    "# Use this to get beta csv. \n",
    "# np.savetxt(\"beta.csv\", pivot_table, delimiter=\",\")"
   ]
  },
  {
   "cell_type": "code",
   "execution_count": 192,
   "metadata": {},
   "outputs": [],
   "source": [
    "# Normalise the beta pivot table matrix. \n",
    "pivot_table_normalised = pivot_table\n",
    "i = 0\n",
    "while i<500: \n",
    "    row = pivot_table_normalised[i, :]\n",
    "    adjusted_row = row + SMALL_NUMBER\n",
    "    normalised_row = adjusted_row / np.sum(adjusted_row)\n",
    "    np.sum(normalised_row)\n",
    "    pivot_table_normalised[i, :] = normalised_row\n",
    "    i+=1"
   ]
  },
  {
   "cell_type": "code",
   "execution_count": 98,
   "metadata": {},
   "outputs": [],
   "source": [
    "# Use this to output a csv for the beta matrix if needed. \n",
    "# np.savetxt(\"beta_matrix.csv\", pivot_table_normalised, delimiter=\",\")"
   ]
  },
  {
   "cell_type": "markdown",
   "metadata": {},
   "source": [
    "# VISUALISATION"
   ]
  },
  {
   "cell_type": "code",
   "execution_count": 100,
   "metadata": {},
   "outputs": [],
   "source": [
    "# use for visualisation if necessary \n",
    "# my_dpi=150\n",
    "# plt.figure(figsize=(2000/my_dpi, 2000/my_dpi), dpi=my_dpi)\n",
    "# plt.imshow(pivot_table_normalised, aspect=\"auto\")"
   ]
  },
  {
   "cell_type": "markdown",
   "metadata": {},
   "source": [
    "# GET ORIGINAL THETA(NORM GAMMA)"
   ]
  },
  {
   "cell_type": "code",
   "execution_count": 101,
   "metadata": {
    "scrolled": true
   },
   "outputs": [],
   "source": [
    "# get the original theta from the database for subsequent comparison \n",
    "# remember theta is just normalised gamma and represents a docs * topics matrix \n",
    "theta = DocumentMass2Motif.objects.filter(document_id__in=experiment_docs)\n",
    "output_data_theta = []\n",
    "for t in theta:\n",
    "    output_data_theta.append([unique_docs[int(t.document_id)], unique_topics[int(t.mass2motif_id)], t.probability])"
   ]
  },
  {
   "cell_type": "code",
   "execution_count": 103,
   "metadata": {},
   "outputs": [
    {
     "data": {
      "text/plain": [
       "[[0, 94, 0.902611552679438],\n",
       " [0, 286, 0.0340671553770332],\n",
       " [0, 200, 0.0186782260549867],\n",
       " [0, 414, 0.0109110112103501],\n",
       " [0, 499, 0.0158815907979228]]"
      ]
     },
     "execution_count": 103,
     "metadata": {},
     "output_type": "execute_result"
    }
   ],
   "source": [
    "output_data_theta"
   ]
  },
  {
   "cell_type": "markdown",
   "metadata": {},
   "source": [
    "# GET ORIGINAL PHI "
   ]
  },
  {
   "cell_type": "code",
   "execution_count": 104,
   "metadata": {
    "scrolled": false
   },
   "outputs": [],
   "source": [
    "# get the features related to the instances\n",
    "feature_instance = FeatureInstance.objects.filter(document_id__in=experiment_docs)\n",
    "feature_instance_join = {}\n",
    "for i in feature_instance:\n",
    "    feature_instance_join.update({int(i.id):[int(i.document_id), int(unique_words[i.feature_id])]})"
   ]
  },
  {
   "cell_type": "code",
   "execution_count": 105,
   "metadata": {},
   "outputs": [],
   "source": [
    "# connect docs, topics and features into a list of lists\n",
    "feature_m2m_instance = FeatureMass2MotifInstance.objects.filter(mass2motif__experiment=experiment)\n",
    "phi_list = []\n",
    "for i in feature_m2m_instance:\n",
    "    if i.featureinstance_id in feature_instance_join.keys():\n",
    "        phi_list.append([feature_instance_join[int(i.featureinstance_id)][0], unique_topics[int(i.mass2motif_id)], feature_instance_join[int(i.featureinstance_id)][1],i.probability])"
   ]
  },
  {
   "cell_type": "code",
   "execution_count": 107,
   "metadata": {},
   "outputs": [],
   "source": [
    "# This gives the original phi, which in abstract terms is a 3D matrix -> docs * topics * words\n",
    "phi_original = []\n",
    "for line in phi_list: \n",
    "    phi_original.append([line[0],line[2],line[1],line[3]])\n",
    "phi_original_array = np.array(phi_original)"
   ]
  },
  {
   "cell_type": "code",
   "execution_count": 108,
   "metadata": {},
   "outputs": [],
   "source": [
    "# np.savetxt(\"phi_original_array.csv\", phi_original_array, delimiter=\",\", fmt=\"%s\")\n",
    "# np.save(\"phi_original_array\", phi_original_array)"
   ]
  },
  {
   "cell_type": "markdown",
   "metadata": {},
   "source": [
    "# E-STEP (has 9 steps)"
   ]
  },
  {
   "cell_type": "markdown",
   "metadata": {},
   "source": [
    "## Step 0 - E-step variables"
   ]
  },
  {
   "cell_type": "code",
   "execution_count": 232,
   "metadata": {},
   "outputs": [],
   "source": [
    "# alpha_vector is already mentioned above\n",
    "# beta_matrix is created here from pivot_table_normalised\n",
    "# K and W are from above for total unique topics, total unique words respectively \n",
    "# you need a corpus (created above)\n",
    "corpus = corpus_dict\n",
    "beta_matrix = pivot_table_normalised"
   ]
  },
  {
   "cell_type": "markdown",
   "metadata": {},
   "source": [
    "## Step 1 - Initialise phi matrix"
   ]
  },
  {
   "cell_type": "code",
   "execution_count": 233,
   "metadata": {},
   "outputs": [],
   "source": [
    "# initialise the 3D matrix phi with zeroes\n",
    "phi_matrix={}\n",
    "for doc in corpus: \n",
    "    d = int(doc)\n",
    "    phi_matrix[d] = {}\n",
    "    for word in corpus[doc]:\n",
    "        w = int(word)\n",
    "        phi_matrix[d][w]=np.zeros(K)"
   ]
  },
  {
   "cell_type": "markdown",
   "metadata": {},
   "source": [
    "## Step 2 - initialise gamma matrix"
   ]
  },
  {
   "cell_type": "code",
   "execution_count": 234,
   "metadata": {},
   "outputs": [],
   "source": [
    "# create a gamma matrix with rows as documents and columns as topics \n",
    "# this will later be transposed in order to create the phi matrix in the steps 3-9 below\n",
    "# doc_total is the count of words per doc, and each gamma is alpha plus that\n",
    "\n",
    "gamma_matrix=np.zeros((int(len(corpus)),int(K))) #3x500 shape\n",
    "for doc in corpus:\n",
    "    doc_total=0.0\n",
    "    for word in corpus[doc]:\n",
    "        doc_total += corpus[doc][word]\n",
    "    gamma_matrix[int(doc),:] = alpha_vector + 1.0*(doc_total/K)"
   ]
  },
  {
   "cell_type": "markdown",
   "metadata": {},
   "source": [
    "## Step 3 - 9: repeat until convergence loop"
   ]
  },
  {
   "cell_type": "code",
   "execution_count": 235,
   "metadata": {},
   "outputs": [],
   "source": [
    "# initialise phi and do Blei's loop \n",
    "test_list = []\n",
    "iterations=10000\n",
    "n_words = int(len(unique_words))\n",
    "temp_beta = np.zeros((K, n_words))\n",
    "current_gamma = np.copy(gamma_matrix)\n",
    "for i in range(iterations):   \n",
    "    prev_gamma = np.copy(current_gamma)\n",
    "    for doc in corpus:\n",
    "        d = int(doc)\n",
    "        doc_dict = corpus[doc]\n",
    "        temp_gamma = np.zeros(K) + alpha_vector\n",
    "        for word in doc_dict: #the word is actually column positioning so we do not need n^3 complexity \n",
    "            w = int(word)\n",
    "            log_phi_matrix = np.log(beta_matrix[:,w]) + psi(gamma_matrix[d,:]).T\n",
    "            log_phi_matrix = np.exp(log_phi_matrix - log_phi_matrix.max())\n",
    "            phi_matrix[d][w] = log_phi_matrix/log_phi_matrix.sum()\n",
    "            temp_gamma += phi_matrix[d][w]*corpus[doc][word]\n",
    "            temp_beta[:,w] += phi_matrix[d][w] * corpus[doc][word]\n",
    "        gamma_matrix[d,:] = temp_gamma\n",
    "        pos = np.where(gamma_matrix[d,:]<SMALL_NUMBER)[0]\n",
    "        gamma_matrix[d,pos] = SMALL_NUMBER\n",
    "    current_gamma = np.copy(gamma_matrix)\n",
    "    gamma_diff = ((current_gamma - prev_gamma)**2).sum()\n",
    "#     beta_matrix = temp_beta\n",
    "    test_list.append([i, gamma_diff])"
   ]
  },
  {
   "cell_type": "code",
   "execution_count": 254,
   "metadata": {},
   "outputs": [
    {
     "data": {
      "text/plain": [
       "[293, 7.888609052210118e-31]"
      ]
     },
     "execution_count": 254,
     "metadata": {},
     "output_type": "execute_result"
    }
   ],
   "source": [
    "test_list[293]"
   ]
  },
  {
   "cell_type": "code",
   "execution_count": 260,
   "metadata": {},
   "outputs": [
    {
     "data": {
      "text/plain": [
       "0.0002970089843010666"
      ]
     },
     "execution_count": 260,
     "metadata": {},
     "output_type": "execute_result"
    }
   ],
   "source": [
    "phi_matrix[0][18][286]"
   ]
  },
  {
   "cell_type": "code",
   "execution_count": 171,
   "metadata": {},
   "outputs": [],
   "source": [
    "blabla = np.array(test_list)\n",
    "np.savetxt(\"blabla.csv\", blabla, delimiter=\",\", fmt=\"%s\")"
   ]
  },
  {
   "cell_type": "markdown",
   "metadata": {},
   "source": [
    "# COMPARISON (phi gamma original vs calculated) "
   ]
  },
  {
   "cell_type": "markdown",
   "metadata": {},
   "source": [
    "## Gamma comparison / actually Theta comparison "
   ]
  },
  {
   "cell_type": "markdown",
   "metadata": {},
   "source": [
    "## Phi comparison"
   ]
  },
  {
   "cell_type": "code",
   "execution_count": null,
   "metadata": {},
   "outputs": [],
   "source": [
    "len(unique_words)"
   ]
  },
  {
   "cell_type": "code",
   "execution_count": null,
   "metadata": {
    "scrolled": true
   },
   "outputs": [],
   "source": [
    "#check phi_matrix vs phi_list \n",
    "#first bring to same format\n",
    "\n",
    "phi_calculated = []\n",
    "for line in phi_list: \n",
    "    phi_calculated.append([line[0],line[2],line[1],phi_matrix[line[0]][line[2]][line[1]]])\n",
    "\n",
    "phi_calculated_array = np.array(phi_calculated)\n",
    "np.savetxt(\"phi_calculated_array.csv\", phi_calculated_array, delimiter=\",\", fmt=\"%s\")          \n",
    "np.save(\"phi_calculated_array\", phi_calculated_array)       "
   ]
  }
 ],
 "metadata": {
  "kernelspec": {
   "display_name": "Python 2",
   "language": "python",
   "name": "python2"
  },
  "language_info": {
   "codemirror_mode": {
    "name": "ipython",
    "version": 2
   },
   "file_extension": ".py",
   "mimetype": "text/x-python",
   "name": "python",
   "nbconvert_exporter": "python",
   "pygments_lexer": "ipython2",
   "version": "2.7.16"
  }
 },
 "nbformat": 4,
 "nbformat_minor": 2
}
