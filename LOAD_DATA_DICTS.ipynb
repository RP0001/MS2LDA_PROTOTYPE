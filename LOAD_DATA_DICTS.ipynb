{
 "cells": [
  {
   "cell_type": "markdown",
   "metadata": {},
   "source": [
    "# IMPORTS"
   ]
  },
  {
   "cell_type": "code",
   "execution_count": 1,
   "metadata": {},
   "outputs": [
    {
     "name": "stdout",
     "output_type": "stream",
     "text": [
      "MEDIA_ROOT is C:\\Users\\rpetr\\OneDrive\\Desktop\\DISS_CODE\\ms2ldaviz\\ms2ldaviz\\media\n"
     ]
    }
   ],
   "source": [
    "# all the relevant imports are done here\n",
    "# run this if there are import errors: set DJANGO_SETTINGS_MODULE=ms2ldaviz.settings\n",
    "%load_ext autoreload\n",
    "%autoreload 2\n",
    "%matplotlib inline\n",
    "import sys\n",
    "basedir = 'C:\\\\Users\\\\rpetr\\\\OneDrive\\\\Desktop\\\\DISS_CODE\\\\ms2ldaviz\\\\ms2ldaviz'\n",
    "sys.path.append(basedir)\n",
    "import django\n",
    "import json\n",
    "django.setup()\n",
    "from basicviz.models import Experiment, Alpha, Mass2MotifInstance, FeatureInstance, Feature, Document, Mass2Motif, DocumentMass2Motif, FeatureMass2MotifInstance\n",
    "import numpy as np\n",
    "import pylab as plt\n",
    "import csv\n",
    "from scipy.special import polygamma as pg\n",
    "from scipy.special import psi as psi\n",
    "import pickle "
   ]
  },
  {
   "cell_type": "code",
   "execution_count": null,
   "metadata": {},
   "outputs": [],
   "source": [
    "SMALL_NUMBER = 1e-100"
   ]
  },
  {
   "cell_type": "markdown",
   "metadata": {},
   "source": [
    "## IMPORT LDA DICT FILES"
   ]
  },
  {
   "cell_type": "code",
   "execution_count": 288,
   "metadata": {},
   "outputs": [],
   "source": [
    "#load low threshold dict\n",
    "file = open('mb_lower_thresh.dict','r')\n",
    "lda_dict_low_thresh = pickle.load(file)"
   ]
  },
  {
   "cell_type": "code",
   "execution_count": 10,
   "metadata": {},
   "outputs": [],
   "source": [
    "#load high threshold dict\n",
    "file = open('mb_normal_thresh.dict','r')\n",
    "lda_dict_high_thresh = pickle.load(file)"
   ]
  },
  {
   "cell_type": "code",
   "execution_count": 289,
   "metadata": {},
   "outputs": [],
   "source": [
    "#choose dict you are interested in\n",
    "lda_dict=lda_dict_low_thresh"
   ]
  },
  {
   "cell_type": "code",
   "execution_count": 256,
   "metadata": {},
   "outputs": [
    {
     "data": {
      "text/plain": [
       "['phi',\n",
       " 'features',\n",
       " 'doc_metadata',\n",
       " 'alpha',\n",
       " 'K',\n",
       " 'word_index',\n",
       " 'topic_index',\n",
       " 'beta',\n",
       " 'topic_metadata',\n",
       " 'theta',\n",
       " 'corpus',\n",
       " 'overlap_scores',\n",
       " 'doc_index',\n",
       " 'gamma']"
      ]
     },
     "execution_count": 256,
     "metadata": {},
     "output_type": "execute_result"
    }
   ],
   "source": [
    "#choose the keys you are most interested in \n",
    "lda_dict.keys()"
   ]
  },
  {
   "cell_type": "markdown",
   "metadata": {},
   "source": [
    "## GET CORPUS DOCUMENT"
   ]
  },
  {
   "cell_type": "code",
   "execution_count": 290,
   "metadata": {},
   "outputs": [],
   "source": [
    "#get all the docs in the corpus of input file\n",
    "doc_list=lda_dict['corpus'].keys()"
   ]
  },
  {
   "cell_type": "code",
   "execution_count": 291,
   "metadata": {},
   "outputs": [],
   "source": [
    "#get the document id for the document chosen (CHANGED MANUALLY)\n",
    "chosen_document=[269485]"
   ]
  },
  {
   "cell_type": "code",
   "execution_count": 292,
   "metadata": {},
   "outputs": [],
   "source": [
    "#name to db_id document dictionary\n",
    "docs = Document.objects.filter(id__in=chosen_document)\n",
    "docdbid2name = {}\n",
    "for d in docs:\n",
    "    docdbid2name.update({int(d.id):d.name})"
   ]
  },
  {
   "cell_type": "code",
   "execution_count": 293,
   "metadata": {},
   "outputs": [],
   "source": [
    "#unique documents is the dictionary -> doc: id (THIS IS REDUNDANT TO BE DELETED)\n",
    "unique_docs = {}\n",
    "index = 0 \n",
    "for doc in docdbid2name.values(): \n",
    "    unique_docs.update({doc:index})\n",
    "    index+=1"
   ]
  },
  {
   "cell_type": "code",
   "execution_count": 294,
   "metadata": {},
   "outputs": [],
   "source": [
    "# map documents to indices\n",
    "unique_docs=lda_dict['doc_index']"
   ]
  },
  {
   "cell_type": "code",
   "execution_count": 295,
   "metadata": {},
   "outputs": [
    {
     "data": {
      "text/plain": [
       "170"
      ]
     },
     "execution_count": 295,
     "metadata": {},
     "output_type": "execute_result"
    }
   ],
   "source": [
    "# get your unique document \n",
    "unique_doc = unique_docs[docdbid2name[chosen_document[0]]]\n",
    "unique_doc"
   ]
  },
  {
   "cell_type": "markdown",
   "metadata": {},
   "source": [
    "## GET CORPUS WORDS"
   ]
  },
  {
   "cell_type": "code",
   "execution_count": 296,
   "metadata": {},
   "outputs": [],
   "source": [
    "# get all words for the imported experiment \n",
    "all_words = []\n",
    "for doc in lda_dict['corpus']:\n",
    "    for word in lda_dict['corpus'][doc]:\n",
    "        all_words.append(word)\n",
    "all_words=set(all_words)\n",
    "all_words=list(all_words)"
   ]
  },
  {
   "cell_type": "code",
   "execution_count": 297,
   "metadata": {},
   "outputs": [],
   "source": [
    "# unique words lists all the features as {feature_id:incremental_id} word value pairs. (REDUNDANT TO BE DELETED)\n",
    "unique_words = {}\n",
    "index = 0\n",
    "for word in all_words:\n",
    "    if word not in unique_words.keys():\n",
    "        unique_words.update({word:index})\n",
    "        index+=1"
   ]
  },
  {
   "cell_type": "code",
   "execution_count": 298,
   "metadata": {},
   "outputs": [],
   "source": [
    "# map words to indices\n",
    "unique_words=lda_dict['word_index']"
   ]
  },
  {
   "cell_type": "code",
   "execution_count": 299,
   "metadata": {},
   "outputs": [],
   "source": [
    "# get all the words for the specific document \n",
    "word_list = lda_dict['corpus'][docdbid2name[chosen_document[0]]].keys()"
   ]
  },
  {
   "cell_type": "markdown",
   "metadata": {},
   "source": [
    "## GET CORPUS TOPICS"
   ]
  },
  {
   "cell_type": "code",
   "execution_count": 300,
   "metadata": {},
   "outputs": [],
   "source": [
    "# map topic to index\n",
    "unique_topics = lda_dict['topic_index']"
   ]
  },
  {
   "cell_type": "markdown",
   "metadata": {},
   "source": [
    "## GET ALPHA"
   ]
  },
  {
   "cell_type": "code",
   "execution_count": 301,
   "metadata": {},
   "outputs": [],
   "source": [
    "alpha_vector = np.array(lda_dict['alpha'])"
   ]
  },
  {
   "cell_type": "markdown",
   "metadata": {},
   "source": [
    "## GET BETA"
   ]
  },
  {
   "cell_type": "code",
   "execution_count": 302,
   "metadata": {},
   "outputs": [],
   "source": [
    "#Get all beta values.\n",
    "beta_prep_list = []\n",
    "for topic in lda_dict['beta']: \n",
    "    for word in lda_dict['beta'][topic]:\n",
    "        beta_prep_list.append([unique_topics[topic],unique_words[word],lda_dict['beta'][topic][word]])"
   ]
  },
  {
   "cell_type": "code",
   "execution_count": 303,
   "metadata": {},
   "outputs": [],
   "source": [
    "#Populate beta matrix.\n",
    "K = len(unique_topics)\n",
    "W = len(unique_words)\n",
    "pivot_table = np.zeros((K, W)).astype('float')\n",
    "i = 0\n",
    "max = len(beta_prep_list)\n",
    "while i<max:\n",
    "    pivot_table[int(beta_prep_list[i][0]),int(beta_prep_list[i][1])]=beta_prep_list[i][2]\n",
    "    i+=1"
   ]
  },
  {
   "cell_type": "code",
   "execution_count": 304,
   "metadata": {},
   "outputs": [],
   "source": [
    "#Create a normalised beta matrix. \n",
    "pivot_table_normalised = pivot_table\n",
    "i = 0\n",
    "while i<K: \n",
    "    row = pivot_table_normalised[i, :]\n",
    "    adjusted_row = row + SMALL_NUMBER\n",
    "    normalised_row = adjusted_row / np.sum(adjusted_row)\n",
    "    np.sum(normalised_row)\n",
    "    pivot_table_normalised[i, :] = normalised_row\n",
    "    i+=1"
   ]
  },
  {
   "cell_type": "markdown",
   "metadata": {},
   "source": [
    "## GET ORIGINAL GAMMA"
   ]
  },
  {
   "cell_type": "code",
   "execution_count": 307,
   "metadata": {
    "scrolled": true
   },
   "outputs": [],
   "source": [
    "gamma_vector_original = np.copy(lda_dict['gamma'])"
   ]
  },
  {
   "cell_type": "code",
   "execution_count": 308,
   "metadata": {},
   "outputs": [
    {
     "data": {
      "text/plain": [
       "array([2.27671599e-04, 2.89315100e-03, 3.46631069e-04, 1.92616546e-04,\n",
       "       3.05104197e-04, 1.92605535e-04, 1.13096295e-03, 3.27569125e-03,\n",
       "       3.62517303e-03, 3.05037980e-04, 1.17791654e-03, 2.65638491e-04,\n",
       "       3.05859502e-04, 2.66538929e-04, 3.90249670e-04, 1.92766043e-04,\n",
       "       5.69013280e-04, 4.57484312e-03, 2.68420279e-04, 1.92636672e-04,\n",
       "       1.22331451e-03, 2.27828834e-04, 2.27661075e-04, 1.86084281e+03,\n",
       "       2.65210099e-04, 2.65248243e-04, 3.89368699e-04, 1.64943886e-03,\n",
       "       9.43324637e-04, 1.92919902e-04, 1.95665683e-04, 4.22803699e-03,\n",
       "       2.66973312e-04, 1.09315767e-02, 4.32671511e-04, 2.29328643e-04,\n",
       "       3.49571452e-04, 1.93589244e-04, 1.78710098e-04, 3.89036124e-04,\n",
       "       1.60722275e-04, 2.80212556e-03, 1.93699325e-04, 5.24969887e-04,\n",
       "       9.43757954e-04, 1.60539088e-04, 1.69858641e-03, 3.05283484e-04,\n",
       "       6.60914599e-04, 3.17944823e-03, 6.61117637e-04, 1.41560242e-03,\n",
       "       1.60456969e-04, 2.41809252e-03, 8.02136659e-04, 7.08275139e-04,\n",
       "       5.22382131e-03, 3.05946514e-04, 1.50990150e-03, 1.60805588e-04,\n",
       "       1.27185071e-03, 1.12955744e-02, 1.31790467e-04, 1.92704712e-04,\n",
       "       2.79749860e-03, 1.92633834e-04, 1.08423166e-03, 1.92791978e-04,\n",
       "       8.95443049e-04, 2.28214768e-04, 2.28518833e-04, 2.68443220e-04,\n",
       "       3.42039715e-03, 8.00594935e-04, 3.46364013e-04, 1.60839286e-04,\n",
       "       3.46344952e-04, 2.28693681e-04, 1.50175723e-02, 3.46697687e-04,\n",
       "       2.28004260e-04, 1.17717747e-03, 2.55759693e-03, 3.89042850e-04,\n",
       "       5.16408809e-03, 2.45724121e-03, 2.27745511e-04, 5.23191343e-04,\n",
       "       6.61454267e-04, 5.23775474e-04, 4.32761141e-04, 2.65645791e-04,\n",
       "       1.93667310e-04, 1.92727439e-04, 4.32957688e-04, 2.27693513e-04,\n",
       "       1.60622319e-04, 6.14700556e-04, 4.77480243e-04, 5.46248509e-03,\n",
       "       3.05879408e-04, 9.89593875e-04, 2.65432212e-04, 7.54851229e-04,\n",
       "       1.32287549e-03, 2.27135530e-03, 2.65149312e-04, 3.06283506e-04,\n",
       "       3.32172076e-03, 1.60633033e-04, 9.44222819e-04, 4.94496606e-04,\n",
       "       7.07977919e-04, 3.46405331e-04, 1.31522546e-04, 4.79431508e-04,\n",
       "       8.95841840e-04, 1.92775081e-04, 1.60583887e-04, 2.27750092e-04,\n",
       "       5.71862647e-03, 1.92781467e-04, 5.22969978e-04, 1.60566353e-04,\n",
       "       2.65262730e-04, 3.89145539e-04, 2.27642348e-04, 1.60236379e-03,\n",
       "       3.62091412e-03, 2.30535512e-04, 1.03683860e-03, 2.28051040e-04,\n",
       "       1.60470008e-04, 1.60440438e-04, 1.07643198e-02, 3.79980609e-03,\n",
       "       2.27864528e-04, 1.93168823e-04, 7.54633168e-04, 2.27745068e-04,\n",
       "       3.48078880e-04, 3.46448612e-04, 6.61895213e-04, 7.08383853e-04,\n",
       "       1.17792240e-03, 1.64563346e-04, 1.13180605e-03, 3.09431925e-04,\n",
       "       1.08522287e-03, 2.79879938e-03, 3.46334221e-04, 2.65498922e-04,\n",
       "       4.33071587e-04, 5.68682951e-04, 6.14530922e-04, 1.92763101e-04,\n",
       "       2.12520081e-03, 8.48038196e-04, 1.61669801e-04, 8.47799941e-04,\n",
       "       1.92839983e-04, 9.45591693e-04, 3.51682561e-04, 3.89075437e-04,\n",
       "       2.88108933e-03, 8.94996980e-04, 7.08034419e-04, 2.65151477e-04,\n",
       "       6.14720081e-04, 9.89913944e-04, 3.05620562e-04, 2.34648700e-04,\n",
       "       2.17396149e-03, 8.94250896e-04, 3.04941922e-04, 1.79324321e-03,\n",
       "       3.07041077e-04, 8.01325635e-04, 1.69887660e-03, 1.92657196e-04,\n",
       "       2.12698559e-03, 2.27717136e-04, 4.09283795e-03, 2.50795556e-03,\n",
       "       1.92581888e-04, 1.60880264e-04, 2.67011401e-04, 1.92636046e-04,\n",
       "       2.27930550e-04, 8.96197438e-04, 1.92980588e-04, 1.74492311e-03,\n",
       "       2.65551571e-04, 5.68595667e-04, 3.46342931e-04, 3.04986462e-04,\n",
       "       2.28259897e-04, 6.61546086e-04, 7.12678847e-04, 1.92879135e-04,\n",
       "       2.28964509e-04, 6.25085055e-04, 3.88897847e-04, 1.92755076e-04,\n",
       "       1.88999445e-03, 4.77468376e-04, 6.71852872e-04, 3.46967658e-04,\n",
       "       3.89200652e-04, 2.65185746e-04, 3.04843213e-04, 4.77853143e-04,\n",
       "       4.86252833e-04, 1.66371917e-04, 5.22826704e-04, 3.04887115e-04,\n",
       "       8.95152832e-04, 1.60727630e-04, 1.65211844e-03, 3.46013371e-03,\n",
       "       3.76715532e-03, 7.54379479e-04, 1.03650173e-03, 2.65422077e-04,\n",
       "       3.57001182e-04, 3.90272499e-04, 2.74637418e-03, 1.92629922e-04,\n",
       "       1.92820167e-04, 3.61769036e-03, 4.77405721e-04, 6.61548664e-04,\n",
       "       2.31531904e-03, 3.46211790e-04, 1.65636571e-03, 1.60420614e-04,\n",
       "       1.22523416e-03, 4.77888871e-04, 1.60548919e-04, 3.99336119e-03,\n",
       "       5.68843508e-04, 1.60608407e-04, 7.07774383e-04, 2.65198551e-04,\n",
       "       4.80976197e-04, 8.49755744e-04, 3.46220362e-04, 2.65319135e-04,\n",
       "       6.61351110e-04, 5.23225318e-04, 2.27745400e-04, 1.41369837e-03,\n",
       "       2.27730222e-04, 9.43085602e-04, 5.70365144e-04, 2.50605470e-03,\n",
       "       3.50918500e-03, 3.71773628e-03, 3.91272087e-04, 4.00033332e-04,\n",
       "       3.89054919e-04, 4.03691123e-03, 3.05095314e-04, 1.27166178e-03,\n",
       "       1.31479125e-04, 6.14516162e-04, 1.31886785e-03, 3.94016018e-04,\n",
       "       1.13054480e-03, 2.17119308e-03, 1.94297241e-04, 2.27662795e-04,\n",
       "       5.51799405e-03, 2.27840901e-04, 1.92640166e-04, 3.81626381e-03,\n",
       "       1.92621175e-04, 3.04895521e-04, 1.74549396e-03, 1.92614813e-04,\n",
       "       1.83923675e-03, 6.61229665e-04, 6.60503887e-04, 9.88911752e-04,\n",
       "       3.89488969e-04, 3.46872534e-04, 1.98678076e-03, 1.94492134e-04,\n",
       "       1.31513568e-04, 1.08228327e-03, 6.62018327e-04, 1.92641944e-04,\n",
       "       3.64389759e-03, 2.27970137e-04, 1.45233048e-04, 1.22758845e-03,\n",
       "       3.04996778e-04, 4.79453036e-04, 4.92105209e+01, 1.03584256e-03,\n",
       "       2.03378630e-03, 3.47038403e-04, 3.05415720e-04, 3.89147282e-04,\n",
       "       2.27943747e-04, 5.68573450e-04, 3.89094785e-04, 3.05493696e-04,\n",
       "       5.60952125e+02, 3.89225468e-04, 2.97498040e-04, 7.95377779e-03,\n",
       "       3.04858836e-04, 2.65218392e-04, 1.13064586e-03, 2.98587595e-03,\n",
       "       4.77506663e-04, 2.84512579e-04, 2.65220073e-04, 1.92621777e-04,\n",
       "       2.28369064e-04, 6.61281649e-04, 1.46129061e-03, 3.88855422e-04,\n",
       "       2.67009861e-04, 3.04837683e-04, 3.89319189e-04, 1.74509536e-03,\n",
       "       2.30726767e-04, 3.90029229e-04, 1.60510724e-04, 1.79572606e-03,\n",
       "       5.68396641e-04, 1.60687567e-04, 2.65414680e-04, 1.65104885e-03,\n",
       "       2.27996942e-04, 2.65541924e-04, 6.63831580e-04, 5.69188527e-04,\n",
       "       1.03637750e-03, 2.33657981e-04, 2.29319576e-04, 3.10993982e-04,\n",
       "       1.92952078e-04, 1.69719986e-03, 3.89153620e-04, 1.61244065e-04,\n",
       "       3.56765033e-03, 2.65162226e-04, 1.98247811e-03, 3.47928590e-04,\n",
       "       4.32951985e-04, 3.50532582e-04, 3.04935765e-04, 3.95461492e-04,\n",
       "       1.92633447e-04, 8.48376594e-04, 3.46353600e-04, 3.46327161e-04,\n",
       "       3.46903446e-04, 2.65869064e-04, 1.92651805e-04, 4.32720213e-04,\n",
       "       4.32948148e-04, 2.65699174e-04, 2.71362537e-04, 2.27670347e-04,\n",
       "       3.04909520e-04, 1.92673437e-04, 6.61135880e-04, 3.46399777e-04,\n",
       "       1.61471440e-04, 6.14804643e-04, 1.74487496e-03, 5.24077673e-04,\n",
       "       8.01455108e-04, 2.65507928e-04, 3.21200688e-04, 1.60417279e-04,\n",
       "       1.92922925e-04, 3.46895597e-04, 5.68575543e-04, 2.65175950e-03,\n",
       "       2.13439289e-02, 1.92802789e-04, 1.93580224e-03, 2.65321872e-04,\n",
       "       1.40378225e-02, 7.55216531e-04, 2.27734776e-04, 4.78434382e-04,\n",
       "       9.89425035e-04, 4.98790072e-03, 5.24097921e-04, 3.89658733e-04,\n",
       "       9.61486449e-03, 4.32944169e-04, 3.37767658e-03, 2.65405255e-04,\n",
       "       2.65273940e-04, 1.36690800e-03, 1.92837218e-04, 8.48945096e-04,\n",
       "       8.01013542e-04, 1.22511528e-03, 5.68928157e-04, 2.65199313e-04,\n",
       "       1.93046901e-04, 4.33126653e-04, 5.68973248e-04, 3.46331850e-04,\n",
       "       4.04444565e-04, 3.81347546e-03, 6.15014450e-04, 2.65358324e-04,\n",
       "       4.33053725e-04, 1.92574248e-04, 1.84177801e-03, 2.27629980e-04,\n",
       "       2.67540300e-04, 4.33045234e-04, 3.05074063e-04, 3.04802491e-04,\n",
       "       3.04886954e-04, 3.89148861e-04, 1.12893514e-03, 2.28234135e-04,\n",
       "       9.42166316e-04, 7.08344475e-04, 1.41729553e-03, 2.36383920e-03,\n",
       "       8.49186818e-04, 8.56363933e-04, 7.59658228e-04, 2.27835081e-04,\n",
       "       1.17764263e-03, 4.47844707e-03, 3.46406596e-04, 4.77670098e-04,\n",
       "       5.68491989e-04, 1.13173376e-03, 1.92835283e-04, 5.23074834e-04,\n",
       "       1.92612235e-04, 2.65416060e-04, 3.47227560e-04, 1.69680004e-03,\n",
       "       3.46489632e-04, 4.77607948e-04, 3.89755637e-04, 2.65415872e-04,\n",
       "       2.66441826e-04, 1.13063410e-03, 2.75462047e-03, 3.46582970e-04,\n",
       "       5.14275101e-03, 3.46481495e-04, 2.26588952e-03, 1.70177630e-03,\n",
       "       1.65017518e-03, 1.32111814e-04, 6.60939484e-04, 3.94114410e-04,\n",
       "       1.80080574e-03, 2.27715973e-04, 2.33410533e-04, 4.40541505e-03,\n",
       "       3.05724333e-04, 3.89334601e-04, 1.31570467e-04, 6.10041888e-03,\n",
       "       9.89523345e-04, 3.77953394e-03, 2.65657726e-04, 8.48224742e-04,\n",
       "       3.48735541e-04, 8.39871449e-03, 2.27894789e-04, 4.33074153e-04,\n",
       "       3.05029334e-04, 3.50846964e-04, 4.91326349e-03, 9.00587399e-04,\n",
       "       2.65346396e-04, 2.27737206e-04, 1.92794702e-04, 6.61050613e-04,\n",
       "       4.32436871e-04, 1.94697840e-04, 1.03824176e-03, 7.53997619e-04,\n",
       "       3.04863924e-04, 4.82540092e-04, 4.28736967e-03, 1.13174919e-03,\n",
       "       1.60540683e-04, 1.31489018e-04, 5.69103553e-04, 6.72532669e-04])"
      ]
     },
     "execution_count": 308,
     "metadata": {},
     "output_type": "execute_result"
    }
   ],
   "source": [
    "gamma_vector_original "
   ]
  },
  {
   "cell_type": "markdown",
   "metadata": {},
   "source": [
    "## GET ORIGINAL PHI"
   ]
  },
  {
   "cell_type": "code",
   "execution_count": 309,
   "metadata": {
    "scrolled": false
   },
   "outputs": [],
   "source": [
    "# get original phi - it is initially in the form of doc, word, topic, probability\n",
    "phi_dict = lda_dict['phi']"
   ]
  },
  {
   "cell_type": "markdown",
   "metadata": {},
   "source": [
    "## INITIALISE CORPUS BEFORE E-STEP (1 document only)"
   ]
  },
  {
   "cell_type": "code",
   "execution_count": 310,
   "metadata": {},
   "outputs": [],
   "source": [
    "#create corpus dict list first \n",
    "corpus_dict_list = []\n",
    "temp_dict = lda_dict['corpus'][docdbid2name[chosen_document[0]]]\n",
    "for word in temp_dict:\n",
    "    corpus_dict_list.append([int(unique_doc), int(unique_words[word]),int(temp_dict[word])])"
   ]
  },
  {
   "cell_type": "code",
   "execution_count": 311,
   "metadata": {},
   "outputs": [],
   "source": [
    "#create corpus_dict for e-step => doc_id:{word_id:intensity}\n",
    "corpus_dict={}\n",
    "temp_dict={}\n",
    "for line in corpus_dict_list:\n",
    "    temp_dict.update({line[1]:line[2]})\n",
    "corpus_dict.update({corpus_dict_list[0][0]:temp_dict})"
   ]
  },
  {
   "cell_type": "markdown",
   "metadata": {},
   "source": [
    "# E-STEP (has 9 steps)"
   ]
  },
  {
   "cell_type": "markdown",
   "metadata": {},
   "source": [
    "## Step 0 - E-step variables"
   ]
  },
  {
   "cell_type": "code",
   "execution_count": 312,
   "metadata": {},
   "outputs": [],
   "source": [
    "# alpha_vector is already mentioned above\n",
    "# beta_matrix is created here from pivot_table_normalised\n",
    "# K and W are from above for total unique topics, total unique words respectively \n",
    "# you need a corpus (created above)\n",
    "corpus = corpus_dict\n",
    "beta_matrix = pivot_table_normalised"
   ]
  },
  {
   "cell_type": "markdown",
   "metadata": {},
   "source": [
    "## Step 1 - Initialise phi matrix"
   ]
  },
  {
   "cell_type": "code",
   "execution_count": 313,
   "metadata": {},
   "outputs": [],
   "source": [
    "# initialise the 3D matrix phi with zeroes\n",
    "phi_matrix={}\n",
    "for doc in corpus: \n",
    "    d = int(doc)\n",
    "    phi_matrix[d] = {}\n",
    "    for word in corpus[doc]:\n",
    "        w = int(word)\n",
    "        phi_matrix[d][w]=np.zeros(K)"
   ]
  },
  {
   "cell_type": "markdown",
   "metadata": {},
   "source": [
    "## Step 2 - initialise gamma matrix"
   ]
  },
  {
   "cell_type": "code",
   "execution_count": 314,
   "metadata": {},
   "outputs": [],
   "source": [
    "# create a gamma matrix with rows as documents and columns as topics \n",
    "# this will later be transposed in order to create the phi matrix in the steps 3-9 below\n",
    "# doc_total is the count of words per doc, and each gamma is alpha plus that\n",
    "\n",
    "gamma_matrix=np.zeros((int(len(corpus)),int(K))) #3x500 shape\n",
    "for doc in corpus:\n",
    "    doc_total=0.0\n",
    "    for word in corpus[doc]:\n",
    "        doc_total += corpus[doc][word]\n",
    "    gamma_matrix[0,:] = alpha_vector + 1.0*(doc_total/K)"
   ]
  },
  {
   "cell_type": "markdown",
   "metadata": {},
   "source": [
    "## Step 3 - 9: repeat until convergence loop"
   ]
  },
  {
   "cell_type": "code",
   "execution_count": 315,
   "metadata": {},
   "outputs": [],
   "source": [
    "# initialise phi and do Blei's loop, 1000 iterations usually suffice (Simon's implementation) \n",
    "test_list = []\n",
    "iterations=1000\n",
    "n_words = int(len(unique_words))\n",
    "temp_beta = np.zeros((K, n_words))\n",
    "current_gamma = np.copy(gamma_matrix)\n",
    "for i in range(iterations):   \n",
    "    prev_gamma = np.copy(current_gamma)\n",
    "    for doc in corpus:\n",
    "        d = int(doc)\n",
    "        doc_dict = corpus[doc]\n",
    "        temp_gamma = np.zeros(K) + alpha_vector\n",
    "        for word in doc_dict:  \n",
    "            w = int(word)\n",
    "            log_phi_matrix = np.log(beta_matrix[:,w]) + psi(gamma_matrix[0,:]).T #changed here for 1 doc prototype\n",
    "            log_phi_matrix = np.exp(log_phi_matrix - log_phi_matrix.max())\n",
    "            phi_matrix[d][w] = log_phi_matrix/log_phi_matrix.sum()\n",
    "            temp_gamma += phi_matrix[d][w]*corpus[doc][word]\n",
    "            temp_beta[:,w] += phi_matrix[d][w] * corpus[doc][word]\n",
    "        gamma_matrix[0,:] = temp_gamma #changed here for 1 doc prototype\n",
    "        pos = np.where(gamma_matrix[0,:]<SMALL_NUMBER)[0] #changed here for 1 doc prototype\n",
    "        gamma_matrix[0,pos] = SMALL_NUMBER #changed here for 1 doc prototype\n",
    "    current_gamma = np.copy(gamma_matrix)\n",
    "    gamma_diff = ((current_gamma - prev_gamma)**2).sum()\n",
    "#     beta_matrix = temp_beta\n",
    "    test_list.append([i, gamma_diff])"
   ]
  },
  {
   "cell_type": "code",
   "execution_count": 317,
   "metadata": {},
   "outputs": [
    {
     "data": {
      "text/plain": [
       "[[310, 3.3302769042306706e-14],\n",
       " [311, 2.9755055773484925e-14],\n",
       " [312, 2.655746091466392e-14],\n",
       " [313, 2.3719277845119517e-14],\n",
       " [314, 2.1191239495092263e-14],\n",
       " [315, 1.8916680961277312e-14],\n",
       " [316, 1.6911703281990006e-14],\n",
       " [317, 1.5095286886801006e-14],\n",
       " [318, 1.3494553259814181e-14],\n",
       " [319, 1.2037736405309629e-14]]"
      ]
     },
     "execution_count": 317,
     "metadata": {},
     "output_type": "execute_result"
    }
   ],
   "source": [
    "# test the output list of the above e-step \n",
    "test_list[310:320]"
   ]
  },
  {
   "cell_type": "code",
   "execution_count": 247,
   "metadata": {},
   "outputs": [],
   "source": [
    "# get an array output if necessary \n",
    "gamma_diff_array = np.array(test_list)\n",
    "np.savetxt(\"gamma_diff_array.csv\", gamma_diff_array, delimiter=\",\", fmt=\"%s\")"
   ]
  },
  {
   "cell_type": "markdown",
   "metadata": {},
   "source": [
    "# COMPARISON OF GAMMA & PHI (original vs calculated csv exports) "
   ]
  },
  {
   "cell_type": "markdown",
   "metadata": {},
   "source": [
    "## Gamma comparison / actually Theta comparison "
   ]
  },
  {
   "cell_type": "code",
   "execution_count": 32,
   "metadata": {},
   "outputs": [],
   "source": [
    "# output_data_theta is the original data we work with, which is an 3 column matrix (doc_id, topic_id, probability)\n",
    "# we aim to transform output_data_theta into a normalised vector \n",
    "# note that this implementation only works for a single document \n",
    "gamma_vector_original = np.zeros(K) \n",
    "for line in range(len(output_data_theta)):\n",
    "    pos = int(output_data_theta[line][1])\n",
    "    prob = output_data_theta[line][2]\n",
    "    gamma_vector_original[pos] = prob"
   ]
  },
  {
   "cell_type": "code",
   "execution_count": 321,
   "metadata": {},
   "outputs": [],
   "source": [
    "gamma_vector_original /= np.sum(gamma_vector_original)"
   ]
  },
  {
   "cell_type": "code",
   "execution_count": 322,
   "metadata": {},
   "outputs": [],
   "source": [
    "# normalise calculated gamma vector\n",
    "gamma_vector_calculated = np.zeros(K) \n",
    "gamma_vector_calculated = np.copy(gamma_matrix[0])\n",
    "gamma_vector_calculated /= np.sum(gamma_vector_calculated)"
   ]
  },
  {
   "cell_type": "code",
   "execution_count": 323,
   "metadata": {},
   "outputs": [],
   "source": [
    "# export for comparison if needed\n",
    "np.savetxt(\"compare_gamma1.csv\", gamma_vector_original, delimiter=\",\", fmt=\"%s\")\n",
    "np.savetxt(\"compare_gamma2.csv\", gamma_vector_calculated, delimiter=\",\", fmt=\"%s\")"
   ]
  },
  {
   "cell_type": "code",
   "execution_count": 287,
   "metadata": {},
   "outputs": [
    {
     "ename": "NameError",
     "evalue": "name 'gamma_original_calculated' is not defined",
     "output_type": "error",
     "traceback": [
      "\u001b[1;31m---------------------------------------------------------------------------\u001b[0m",
      "\u001b[1;31mNameError\u001b[0m                                 Traceback (most recent call last)",
      "\u001b[1;32m<ipython-input-287-139245d014e0>\u001b[0m in \u001b[0;36m<module>\u001b[1;34m()\u001b[0m\n\u001b[1;32m----> 1\u001b[1;33m \u001b[0mgamma_original_calculated\u001b[0m\u001b[1;33m.\u001b[0m\u001b[0mmax\u001b[0m\u001b[1;33m(\u001b[0m\u001b[1;33m)\u001b[0m\u001b[1;33m\u001b[0m\u001b[0m\n\u001b[0m",
      "\u001b[1;31mNameError\u001b[0m: name 'gamma_original_calculated' is not defined"
     ]
    }
   ],
   "source": [
    "gamma_original_calculated.max()"
   ]
  },
  {
   "cell_type": "code",
   "execution_count": 38,
   "metadata": {},
   "outputs": [],
   "source": [
    "#get a list of topics from original gamma/theta\n",
    "topics_tested = np.array(output_data_theta)[:,1]\n",
    "temp = []  \n",
    "for t in topics_tested: \n",
    "    temp.append(int(t))\n",
    "topics_tested = temp"
   ]
  },
  {
   "cell_type": "code",
   "execution_count": null,
   "metadata": {},
   "outputs": [],
   "source": [
    "gamma_diff_array = []\n",
    "for t in topics_tested: \n",
    "    gamma_diff_array.append([])\n",
    "    "
   ]
  },
  {
   "cell_type": "markdown",
   "metadata": {},
   "source": [
    "## Phi comparison (for words above min \"noise\" intensity)"
   ]
  },
  {
   "cell_type": "code",
   "execution_count": 40,
   "metadata": {},
   "outputs": [],
   "source": [
    "#Get the words from de corpus dict that have the highest intensity. \n",
    "material_words = []\n",
    "for doc in corpus_dict: \n",
    "    for word in corpus_dict[doc]:\n",
    "        w = corpus_dict[doc][word]\n",
    "        if int(w) > 20:\n",
    "            material_words.append([int(word), w]) "
   ]
  },
  {
   "cell_type": "code",
   "execution_count": 41,
   "metadata": {},
   "outputs": [],
   "source": [
    "material_words_dict = {}\n",
    "for line in material_words:\n",
    "    material_words_dict.update({line[0] : line[1]})"
   ]
  },
  {
   "cell_type": "code",
   "execution_count": 42,
   "metadata": {},
   "outputs": [],
   "source": [
    "#Make a numpy array. \n",
    "material_words_array = np.array(material_words)"
   ]
  },
  {
   "cell_type": "code",
   "execution_count": 43,
   "metadata": {},
   "outputs": [],
   "source": [
    "#Sort the array descending order. \n",
    "material_words_array = material_words_array[(-material_words_array)[:,1].argsort()]"
   ]
  },
  {
   "cell_type": "code",
   "execution_count": 44,
   "metadata": {},
   "outputs": [],
   "source": [
    "#Choose material words for comparison loop.\n",
    "material_words_list = list(material_words_array[:,0])"
   ]
  },
  {
   "cell_type": "code",
   "execution_count": 45,
   "metadata": {},
   "outputs": [
    {
     "data": {
      "text/plain": [
       "46"
      ]
     },
     "execution_count": 45,
     "metadata": {},
     "output_type": "execute_result"
    }
   ],
   "source": [
    "len(material_words_list)"
   ]
  },
  {
   "cell_type": "code",
   "execution_count": 46,
   "metadata": {},
   "outputs": [],
   "source": [
    "phi_comparison = []\n",
    "for line in phi_list: \n",
    "    line_word = int(line[2])\n",
    "    if line_word in material_words_list:\n",
    "        line_doc = unique_docs[line[0]]\n",
    "        line_topic = int(line[1])\n",
    "        line_original_prob = line[3]\n",
    "        line_prob = phi_matrix[line_doc][line_word][line_topic]\n",
    "        phi_diff = abs(line_original_prob-line_prob)\n",
    "        intensity = material_words_dict[line_word]\n",
    "        phi_comparison.append([line_doc, line_word, line_topic, line_original_prob, line_prob, phi_diff, intensity])"
   ]
  },
  {
   "cell_type": "code",
   "execution_count": 47,
   "metadata": {},
   "outputs": [
    {
     "data": {
      "text/plain": [
       "51"
      ]
     },
     "execution_count": 47,
     "metadata": {},
     "output_type": "execute_result"
    }
   ],
   "source": [
    "len(phi_comparison)"
   ]
  },
  {
   "cell_type": "code",
   "execution_count": 48,
   "metadata": {},
   "outputs": [],
   "source": [
    "phi_comparison_array = np.array(phi_comparison)"
   ]
  },
  {
   "cell_type": "code",
   "execution_count": 49,
   "metadata": {},
   "outputs": [
    {
     "data": {
      "text/plain": [
       "0.32217156271421166"
      ]
     },
     "execution_count": 49,
     "metadata": {},
     "output_type": "execute_result"
    }
   ],
   "source": [
    "max_phi_diff = list(phi_comparison_array[:,5])\n",
    "max_phi_diff = [float(i) for i in max_phi_diff]\n",
    "max_phi_diff.sort()\n",
    "max_phi_diff = max_phi_diff[-1]\n",
    "max_phi_diff"
   ]
  },
  {
   "cell_type": "code",
   "execution_count": 50,
   "metadata": {},
   "outputs": [
    {
     "data": {
      "text/plain": [
       "array([[3.47189009e-05, 1.00000000e+03],\n",
       "       [1.06976759e-04, 1.97000000e+02],\n",
       "       [1.09728477e-01, 2.10000000e+01],\n",
       "       [7.15651090e-03, 2.40000000e+01],\n",
       "       [9.53491275e-02, 2.20000000e+01],\n",
       "       [6.59614044e-02, 2.20000000e+01],\n",
       "       [2.23457714e-02, 5.50000000e+01],\n",
       "       [3.98754744e-02, 2.20000000e+01],\n",
       "       [1.81382041e-01, 2.80000000e+01],\n",
       "       [1.49122591e-02, 2.40000000e+01],\n",
       "       [2.39852564e-02, 1.31000000e+02],\n",
       "       [9.64630166e-03, 2.97000000e+02],\n",
       "       [2.78306677e-01, 3.70000000e+01],\n",
       "       [1.16137013e-01, 4.60000000e+01],\n",
       "       [1.85349487e-02, 2.40000000e+01],\n",
       "       [4.09072398e-02, 4.83000000e+02],\n",
       "       [3.48140729e-04, 7.60000000e+01],\n",
       "       [6.25323953e-02, 2.20000000e+01],\n",
       "       [1.44772802e-02, 1.31000000e+02],\n",
       "       [4.18488369e-04, 7.60000000e+01],\n",
       "       [1.50189519e-03, 2.10000000e+01],\n",
       "       [2.37402298e-05, 4.83000000e+02],\n",
       "       [2.48331356e-02, 3.60000000e+01],\n",
       "       [5.05633179e-02, 2.40000000e+01],\n",
       "       [5.23183784e-03, 2.97000000e+02],\n",
       "       [3.22171563e-01, 2.40000000e+01],\n",
       "       [4.53775382e-03, 3.60000000e+01],\n",
       "       [9.55459827e-03, 7.60000000e+01],\n",
       "       [1.01990844e-01, 4.50000000e+01],\n",
       "       [3.35838669e-02, 2.10000000e+01],\n",
       "       [6.15675910e-02, 2.40000000e+01],\n",
       "       [1.66555370e-03, 2.10000000e+01],\n",
       "       [2.04175779e-01, 2.40000000e+01],\n",
       "       [3.01393506e-03, 7.60000000e+01],\n",
       "       [1.85032662e-01, 3.40000000e+01],\n",
       "       [1.40432504e-03, 2.40000000e+01],\n",
       "       [3.30578872e-03, 5.50000000e+01],\n",
       "       [9.49639645e-04, 2.80000000e+01],\n",
       "       [2.81266350e-01, 2.70000000e+01],\n",
       "       [8.54513463e-04, 2.90000000e+01],\n",
       "       [1.59764556e-03, 2.10000000e+01],\n",
       "       [1.95935775e-04, 2.20000000e+01],\n",
       "       [6.08940137e-04, 2.40000000e+01],\n",
       "       [3.90301604e-04, 8.40000000e+01],\n",
       "       [2.22614061e-02, 3.70000000e+01],\n",
       "       [8.92684188e-04, 2.90000000e+01],\n",
       "       [2.16811639e-04, 1.97000000e+02],\n",
       "       [8.53591550e-03, 3.70000000e+01],\n",
       "       [4.62244188e-04, 7.00000000e+01],\n",
       "       [4.11148881e-04, 1.01000000e+02],\n",
       "       [8.92684188e-04, 2.90000000e+01]])"
      ]
     },
     "execution_count": 50,
     "metadata": {},
     "output_type": "execute_result"
    }
   ],
   "source": [
    "phi_comparison_array[:,5:]"
   ]
  },
  {
   "cell_type": "code",
   "execution_count": 51,
   "metadata": {},
   "outputs": [],
   "source": [
    "phi_comparison_intenphi = np.copy(phi_comparison_array[:,5:])"
   ]
  },
  {
   "cell_type": "code",
   "execution_count": 52,
   "metadata": {
    "scrolled": true
   },
   "outputs": [
    {
     "data": {
      "image/png": "[encoded data removed]",
      "text/plain": [
       "<Figure size 1440x720 with 1 Axes>"
      ]
     },
     "metadata": {
      "needs_background": "light"
     },
     "output_type": "display_data"
    }
   ],
   "source": [
    "# Plot word intensity on x axis and phi difference on y axis on a scatterplot. \n",
    "x = phi_comparison_intenphi[:,1]\n",
    "y = phi_comparison_intenphi[:,0]\n",
    "fig = plt.figure()\n",
    "scatterplot = fig.add_subplot(1,1,1)\n",
    "plt.scatter(x,y)\n",
    "fig.set_size_inches(20,10)\n",
    "plt.title(\"INTENSITY PHI_DIFF\")\n",
    "plt.xlabel(\"intensity\")\n",
    "plt.ylabel(\"phi_diff\")\n",
    "plt.show()"
   ]
  },
  {
   "cell_type": "markdown",
   "metadata": {},
   "source": [
    "## Theta Comparison (Gamma Comparison) "
   ]
  },
  {
   "cell_type": "code",
   "execution_count": null,
   "metadata": {},
   "outputs": [],
   "source": [
    "original_"
   ]
  },
  {
   "cell_type": "code",
   "execution_count": null,
   "metadata": {},
   "outputs": [],
   "source": [
    "phi_original"
   ]
  },
  {
   "cell_type": "code",
   "execution_count": 54,
   "metadata": {},
   "outputs": [
    {
     "name": "stdout",
     "output_type": "stream",
     "text": [
      "('topic', 'material', 'immaterial')\n",
      "(56, 41, 747)\n",
      "(224, 2, 1)\n",
      "(471, 1, 0)\n",
      "(413, 1, 0)\n",
      "(468, 1, 0)\n"
     ]
    }
   ],
   "source": [
    "topics_tested = np.array(output_data_theta)[:,1]\n",
    "temp =[]  \n",
    "for t in topics_tested: \n",
    "    temp.append(int(t))\n",
    "topics_tested = temp\n",
    "print(\"topic\", \"material\", \"immaterial\")\n",
    "for topic in topics_tested: \n",
    "    topic_tested = topic\n",
    "    count_material = 0\n",
    "    count_immaterial = 0\n",
    "    for line in phi_original: \n",
    "        if line[2] == topic_tested:\n",
    "            if line[1] not in material_words_list:\n",
    "                count_immaterial += 1\n",
    "            else:\n",
    "                count_material += 1\n",
    "    print(topic_tested, count_material, count_immaterial)"
   ]
  },
  {
   "cell_type": "code",
   "execution_count": null,
   "metadata": {},
   "outputs": [],
   "source": [
    "print(385+431)\n",
    "len(corpus_dict['0'])\n"
   ]
  }
 ],
 "metadata": {
  "kernelspec": {
   "display_name": "Python 2",
   "language": "python",
   "name": "python2"
  },
  "language_info": {
   "codemirror_mode": {
    "name": "ipython",
    "version": 2
   },
   "file_extension": ".py",
   "mimetype": "text/x-python",
   "name": "python",
   "nbconvert_exporter": "python",
   "pygments_lexer": "ipython2",
   "version": "2.7.16"
  }
 },
 "nbformat": 4,
 "nbformat_minor": 2
}
